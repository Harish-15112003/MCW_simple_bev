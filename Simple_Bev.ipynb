{
  "nbformat": 4,
  "nbformat_minor": 0,
  "metadata": {
    "colab": {
      "provenance": [],
      "gpuType": "T4",
      "authorship_tag": "ABX9TyOgM66teDK7xU2w0DR2Bw1O",
      "include_colab_link": true
    },
    "kernelspec": {
      "name": "python3",
      "display_name": "Python 3"
    },
    "language_info": {
      "name": "python"
    },
    "accelerator": "GPU"
  },
  "cells": [
    {
      "cell_type": "markdown",
      "metadata": {
        "id": "view-in-github",
        "colab_type": "text"
      },
      "source": [
        "<a href=\"https://colab.research.google.com/github/Harish-15112003/MCW_simple_bev/blob/main/Simple_Bev.ipynb\" target=\"_parent\"><img src=\"https://colab.research.google.com/assets/colab-badge.svg\" alt=\"Open In Colab\"/></a>"
      ]
    },
    {
      "cell_type": "code",
      "source": [
        "from google.colab import drive\n",
        "drive.mount('/content/drive')\n"
      ],
      "metadata": {
        "colab": {
          "base_uri": "https://localhost:8080/"
        },
        "id": "m7qZrW_PLIA2",
        "outputId": "0653cbdf-2cf8-42cc-ae03-d8ac1bc08ae2"
      },
      "execution_count": 2,
      "outputs": [
        {
          "output_type": "stream",
          "name": "stdout",
          "text": [
            "Mounted at /content/drive\n"
          ]
        }
      ]
    },
    {
      "cell_type": "code",
      "execution_count": 3,
      "metadata": {
        "colab": {
          "base_uri": "https://localhost:8080/"
        },
        "id": "EWEdpNSoMOwN",
        "outputId": "04c49533-607f-4140-c31f-6a92f502c17e"
      },
      "outputs": [
        {
          "output_type": "stream",
          "name": "stdout",
          "text": [
            "Cloning into 'simple_bev'...\n",
            "remote: Enumerating objects: 375, done.\u001b[K\n",
            "remote: Counting objects: 100% (49/49), done.\u001b[K\n",
            "remote: Compressing objects: 100% (8/8), done.\u001b[K\n",
            "remote: Total 375 (delta 42), reused 45 (delta 41), pack-reused 326 (from 1)\u001b[K\n",
            "Receiving objects: 100% (375/375), 144.00 KiB | 9.00 MiB/s, done.\n",
            "Resolving deltas: 100% (224/224), done.\n",
            "/content/simple_bev\n",
            "\u001b[31mERROR: Could not find a version that satisfies the requirement torch==1.12.0 (from versions: 1.13.0, 1.13.1, 2.0.0, 2.0.1, 2.1.0, 2.1.1, 2.1.2, 2.2.0, 2.2.1, 2.2.2, 2.3.0, 2.3.1, 2.4.0, 2.4.1, 2.5.0, 2.5.1, 2.6.0)\u001b[0m\u001b[31m\n",
            "\u001b[0m\u001b[31mERROR: No matching distribution found for torch==1.12.0\u001b[0m\u001b[31m\n",
            "\u001b[0mCollecting git+https://github.com/lyft/nuscenes-devkit (from -r requirements.txt (line 12))\n",
            "  Cloning https://github.com/lyft/nuscenes-devkit to /tmp/pip-req-build-prz7krz5\n",
            "  Running command git clone --filter=blob:none --quiet https://github.com/lyft/nuscenes-devkit /tmp/pip-req-build-prz7krz5\n",
            "  Resolved https://github.com/lyft/nuscenes-devkit to commit 49c36da0a85da6bc9e8f2a39d5d967311cd75069\n",
            "  Installing build dependencies ... \u001b[?25l\u001b[?25hdone\n",
            "  Getting requirements to build wheel ... \u001b[?25l\u001b[?25hdone\n",
            "  Preparing metadata (pyproject.toml) ... \u001b[?25l\u001b[?25hdone\n",
            "Collecting fire==0.4.0 (from -r requirements.txt (line 1))\n",
            "  Downloading fire-0.4.0.tar.gz (87 kB)\n",
            "\u001b[2K     \u001b[90m━━━━━━━━━━━━━━━━━━━━━━━━━━━━━━━━━━━━━━━━\u001b[0m \u001b[32m87.7/87.7 kB\u001b[0m \u001b[31m3.9 MB/s\u001b[0m eta \u001b[36m0:00:00\u001b[0m\n",
            "\u001b[?25h  Preparing metadata (setup.py) ... \u001b[?25l\u001b[?25hdone\n",
            "Collecting efficientnet_pytorch==0.7.1 (from -r requirements.txt (line 2))\n",
            "  Downloading efficientnet_pytorch-0.7.1.tar.gz (21 kB)\n",
            "  Preparing metadata (setup.py) ... \u001b[?25l\u001b[?25hdone\n",
            "Collecting pyquaternion==0.9.9 (from -r requirements.txt (line 3))\n",
            "  Downloading pyquaternion-0.9.9-py3-none-any.whl.metadata (1.4 kB)\n",
            "Collecting nuscenes-devkit (from -r requirements.txt (line 4))\n",
            "  Downloading nuscenes_devkit-1.1.11-py3-none-any.whl.metadata (15 kB)\n",
            "Collecting opencv-python==4.6.0.66 (from -r requirements.txt (line 5))\n",
            "  Downloading opencv_python-4.6.0.66-cp36-abi3-manylinux_2_17_x86_64.manylinux2014_x86_64.whl.metadata (18 kB)\n",
            "Collecting tensorboardX==2.2 (from -r requirements.txt (line 6))\n",
            "  Downloading tensorboardX-2.2-py2.py3-none-any.whl.metadata (4.8 kB)\n",
            "Collecting matplotlib==3.5.1 (from -r requirements.txt (line 7))\n",
            "  Downloading matplotlib-3.5.1.tar.gz (35.3 MB)\n",
            "\u001b[2K     \u001b[90m━━━━━━━━━━━━━━━━━━━━━━━━━━━━━━━━━━━━━━━━\u001b[0m \u001b[32m35.3/35.3 MB\u001b[0m \u001b[31m28.2 MB/s\u001b[0m eta \u001b[36m0:00:00\u001b[0m\n",
            "\u001b[?25h  Preparing metadata (setup.py) ... \u001b[?25l\u001b[?25hdone\n",
            "Collecting scikit-learn==1.1.2 (from -r requirements.txt (line 8))\n",
            "  Downloading scikit-learn-1.1.2.tar.gz (7.0 MB)\n",
            "\u001b[2K     \u001b[90m━━━━━━━━━━━━━━━━━━━━━━━━━━━━━━━━━━━━━━━━\u001b[0m \u001b[32m7.0/7.0 MB\u001b[0m \u001b[31m72.7 MB/s\u001b[0m eta \u001b[36m0:00:00\u001b[0m\n",
            "\u001b[?25h  Installing build dependencies ... \u001b[?25l\u001b[?25hdone\n",
            "  Getting requirements to build wheel ... \u001b[?25l\u001b[?25hdone\n",
            "  \u001b[1;31merror\u001b[0m: \u001b[1msubprocess-exited-with-error\u001b[0m\n",
            "  \n",
            "  \u001b[31m×\u001b[0m \u001b[32mPreparing metadata \u001b[0m\u001b[1;32m(\u001b[0m\u001b[32mpyproject.toml\u001b[0m\u001b[1;32m)\u001b[0m did not run successfully.\n",
            "  \u001b[31m│\u001b[0m exit code: \u001b[1;36m1\u001b[0m\n",
            "  \u001b[31m╰─>\u001b[0m See above for output.\n",
            "  \n",
            "  \u001b[1;35mnote\u001b[0m: This error originates from a subprocess, and is likely not a problem with pip.\n",
            "  Preparing metadata (pyproject.toml) ... \u001b[?25l\u001b[?25herror\n",
            "\u001b[1;31merror\u001b[0m: \u001b[1mmetadata-generation-failed\u001b[0m\n",
            "\n",
            "\u001b[31m×\u001b[0m Encountered error while generating package metadata.\n",
            "\u001b[31m╰─>\u001b[0m See above for output.\n",
            "\n",
            "\u001b[1;35mnote\u001b[0m: This is an issue with the package mentioned above, not pip.\n",
            "\u001b[1;36mhint\u001b[0m: See above for details.\n"
          ]
        }
      ],
      "source": [
        "!git clone https://github.com/aharley/simple_bev.git\n",
        "%cd simple_bev\n",
        "\n",
        "!pip install torch==1.12.0 torchvision==0.13.0\n",
        "!pip install -r requirements.txt\n"
      ]
    },
    {
      "cell_type": "code",
      "source": [
        "!bash get_rgb_model.sh\n",
        "!bash get_rad_model.sh\n"
      ],
      "metadata": {
        "colab": {
          "base_uri": "https://localhost:8080/"
        },
        "id": "oZthTpvRMQ8G",
        "outputId": "36cb5876-698f-4683-dc48-7222f7ad16e2"
      },
      "execution_count": 4,
      "outputs": [
        {
          "output_type": "stream",
          "name": "stdout",
          "text": [
            "downloading rgb model from dropbox...\n",
            "--2025-03-09 06:02:37--  https://www.dropbox.com/s/n93ryvrqyiram56/rgb_checkpoint.tar.gz\n",
            "Resolving www.dropbox.com (www.dropbox.com)... 162.125.1.18, 2620:100:6016:18::a27d:112\n",
            "Connecting to www.dropbox.com (www.dropbox.com)|162.125.1.18|:443... connected.\n",
            "HTTP request sent, awaiting response... 302 Found\n",
            "Location: https://www.dropbox.com/scl/fi/k4pk5szq7i0gul2aqylb1/rgb_checkpoint.tar.gz?rlkey=6fmruxvsvh6nij3lfuyjn51ub [following]\n",
            "--2025-03-09 06:02:37--  https://www.dropbox.com/scl/fi/k4pk5szq7i0gul2aqylb1/rgb_checkpoint.tar.gz?rlkey=6fmruxvsvh6nij3lfuyjn51ub\n",
            "Reusing existing connection to www.dropbox.com:443.\n",
            "HTTP request sent, awaiting response... 302 Found\n",
            "Location: https://ucc442ffcb4b75e4da643e3a6793.dl.dropboxusercontent.com/cd/0/inline/ClhQvO96IZ5hLYatHqzef3hSY5cYjG4PTHfRam9Ma0yarqS2hmCgkjpZO9vbmgXe01ShHe1B96mNBGUDXSInrW9J2JwJRuPpr_kpWe4O1KXfutGfPKhV-FvAAXp73u7lunA/file# [following]\n",
            "--2025-03-09 06:02:37--  https://ucc442ffcb4b75e4da643e3a6793.dl.dropboxusercontent.com/cd/0/inline/ClhQvO96IZ5hLYatHqzef3hSY5cYjG4PTHfRam9Ma0yarqS2hmCgkjpZO9vbmgXe01ShHe1B96mNBGUDXSInrW9J2JwJRuPpr_kpWe4O1KXfutGfPKhV-FvAAXp73u7lunA/file\n",
            "Resolving ucc442ffcb4b75e4da643e3a6793.dl.dropboxusercontent.com (ucc442ffcb4b75e4da643e3a6793.dl.dropboxusercontent.com)... 162.125.1.15, 2620:100:6016:15::a27d:10f\n",
            "Connecting to ucc442ffcb4b75e4da643e3a6793.dl.dropboxusercontent.com (ucc442ffcb4b75e4da643e3a6793.dl.dropboxusercontent.com)|162.125.1.15|:443... connected.\n",
            "HTTP request sent, awaiting response... 302 Found\n",
            "Location: /cd/0/inline2/CljeTh8L09eh2m4WPjCYL_h8FueYqnIx1X5k3I6hWQNmIeN_JJvDiregddl4eYQzQ-1UTUGYJVdNmHxflcq_SADUYcMtCOwmy6jQducF11dMlR2ImiBGRhJOjIh9jxTuRJ5tCofsl4zqXybWm5bsZZnn96FClox222K_RKEMWU4xpdaWbMRjpmHaZ-PGlFqFXt6zlEqEKPWTJShl8VNsxOMsblOe6ssKVFjVHqyVR-eR49Gzy9mgoXZe3z9HtQVOpo3ibr7_nN_lTb3bhtCjaJn0cpN-qnoyQ5IC9DGZwSw0zS-BIUapCvmcs2iZWKiYZBaPfLuzV5BV-VurCZvw6OiqOk1wDQnRaINzf7iS3Fu6GA/file [following]\n",
            "--2025-03-09 06:02:38--  https://ucc442ffcb4b75e4da643e3a6793.dl.dropboxusercontent.com/cd/0/inline2/CljeTh8L09eh2m4WPjCYL_h8FueYqnIx1X5k3I6hWQNmIeN_JJvDiregddl4eYQzQ-1UTUGYJVdNmHxflcq_SADUYcMtCOwmy6jQducF11dMlR2ImiBGRhJOjIh9jxTuRJ5tCofsl4zqXybWm5bsZZnn96FClox222K_RKEMWU4xpdaWbMRjpmHaZ-PGlFqFXt6zlEqEKPWTJShl8VNsxOMsblOe6ssKVFjVHqyVR-eR49Gzy9mgoXZe3z9HtQVOpo3ibr7_nN_lTb3bhtCjaJn0cpN-qnoyQ5IC9DGZwSw0zS-BIUapCvmcs2iZWKiYZBaPfLuzV5BV-VurCZvw6OiqOk1wDQnRaINzf7iS3Fu6GA/file\n",
            "Reusing existing connection to ucc442ffcb4b75e4da643e3a6793.dl.dropboxusercontent.com:443.\n",
            "HTTP request sent, awaiting response... 200 OK\n",
            "Length: 461749880 (440M) [application/octet-stream]\n",
            "Saving to: ‘rgb_checkpoint.tar.gz’\n",
            "\n",
            "rgb_checkpoint.tar. 100%[===================>] 440.36M  84.3MB/s    in 5.2s    \n",
            "\n",
            "2025-03-09 06:02:44 (84.4 MB/s) - ‘rgb_checkpoint.tar.gz’ saved [461749880/461749880]\n",
            "\n",
            "extracting from tar...\n",
            "checkpoints/\n",
            "checkpoints/._.DS_Store\n",
            "tar: Ignoring unknown extended header keyword 'LIBARCHIVE.xattr.com.apple.FinderInfo'\n",
            "checkpoints/.DS_Store\n",
            "checkpoints/8x5_5e-4_rgb12_22:43:46/\n",
            "checkpoints/8x5_5e-4_rgb12_22:43:46/model-000025000.pth\n",
            "deleting the tar...\n",
            "removed 'rgb_checkpoint.tar.gz'\n",
            "done\n",
            "downloading rad model from dropbox...\n",
            "--2025-03-09 06:02:55--  https://www.dropbox.com/s/abnzjdp0eqpfpkr/rad_checkpoint.tar.gz\n",
            "Resolving www.dropbox.com (www.dropbox.com)... 162.125.1.18, 2620:100:6016:18::a27d:112\n",
            "Connecting to www.dropbox.com (www.dropbox.com)|162.125.1.18|:443... connected.\n",
            "HTTP request sent, awaiting response... 302 Found\n",
            "Location: https://www.dropbox.com/scl/fi/mnshdwafreyzme6tdktmu/rad_checkpoint.tar.gz?rlkey=9s9jr51fdlqskn3bm469l6vbv [following]\n",
            "--2025-03-09 06:02:55--  https://www.dropbox.com/scl/fi/mnshdwafreyzme6tdktmu/rad_checkpoint.tar.gz?rlkey=9s9jr51fdlqskn3bm469l6vbv\n",
            "Reusing existing connection to www.dropbox.com:443.\n",
            "HTTP request sent, awaiting response... 302 Found\n",
            "Location: https://ucd86aedd9715308d4963a5907d5.dl.dropboxusercontent.com/cd/0/inline/Cligbav0m2ulbJMKdMVtTKmJiaRItjjFDIjGvPPz9Z9Mr5IERACtHxcVN2FYrJAWH7ljVWgPUd0y4iDloHa9n9sn4M3PVTHf-LuFTSjf-kX3i1v-D-ZEWd6B3sgsdiBluzA/file# [following]\n",
            "--2025-03-09 06:02:56--  https://ucd86aedd9715308d4963a5907d5.dl.dropboxusercontent.com/cd/0/inline/Cligbav0m2ulbJMKdMVtTKmJiaRItjjFDIjGvPPz9Z9Mr5IERACtHxcVN2FYrJAWH7ljVWgPUd0y4iDloHa9n9sn4M3PVTHf-LuFTSjf-kX3i1v-D-ZEWd6B3sgsdiBluzA/file\n",
            "Resolving ucd86aedd9715308d4963a5907d5.dl.dropboxusercontent.com (ucd86aedd9715308d4963a5907d5.dl.dropboxusercontent.com)... 162.125.1.15, 2620:100:6016:15::a27d:10f\n",
            "Connecting to ucd86aedd9715308d4963a5907d5.dl.dropboxusercontent.com (ucd86aedd9715308d4963a5907d5.dl.dropboxusercontent.com)|162.125.1.15|:443... connected.\n",
            "HTTP request sent, awaiting response... 302 Found\n",
            "Location: /cd/0/inline2/CljJffkfwwFb9w1IVa3i4BH_ncFwLfN8KDWXYNoQuYlBb2vVQft-ZXBnWhI3AARd21pzVMCBwniJGr5MdEfZkB2amTKrq5VeNEojYjezxYNlOqmLcVCxQE7T_JJ5sCyKWnLqKY_UYmpcdAdnUv1Mq-E8EPhp29yRN1eX5xwZ-hHuPjXBdjE2RkdLPJiiQBX110kns5rAt0Y6xopIJsdN17tPZQ6gGpNncAIn97bLGZr3jMXLFTt6D8bLBy_xr3tBzvuDww4EQkdjX70UrrvBhs_TFzvsGLo0HLuoJfo2XsxFV61eTctAU77MyRZL_t2OgETIe12KKJ-wO3oXMH75XoveJ9ICLDICCF28fBaPd15Czw/file [following]\n",
            "--2025-03-09 06:02:56--  https://ucd86aedd9715308d4963a5907d5.dl.dropboxusercontent.com/cd/0/inline2/CljJffkfwwFb9w1IVa3i4BH_ncFwLfN8KDWXYNoQuYlBb2vVQft-ZXBnWhI3AARd21pzVMCBwniJGr5MdEfZkB2amTKrq5VeNEojYjezxYNlOqmLcVCxQE7T_JJ5sCyKWnLqKY_UYmpcdAdnUv1Mq-E8EPhp29yRN1eX5xwZ-hHuPjXBdjE2RkdLPJiiQBX110kns5rAt0Y6xopIJsdN17tPZQ6gGpNncAIn97bLGZr3jMXLFTt6D8bLBy_xr3tBzvuDww4EQkdjX70UrrvBhs_TFzvsGLo0HLuoJfo2XsxFV61eTctAU77MyRZL_t2OgETIe12KKJ-wO3oXMH75XoveJ9ICLDICCF28fBaPd15Czw/file\n",
            "Reusing existing connection to ucd86aedd9715308d4963a5907d5.dl.dropboxusercontent.com:443.\n",
            "HTTP request sent, awaiting response... 200 OK\n",
            "Length: 463677362 (442M) [application/octet-stream]\n",
            "Saving to: ‘rad_checkpoint.tar.gz’\n",
            "\n",
            "rad_checkpoint.tar. 100%[===================>] 442.20M  48.9MB/s    in 11s     \n",
            "\n",
            "2025-03-09 06:03:08 (38.7 MB/s) - ‘rad_checkpoint.tar.gz’ saved [463677362/463677362]\n",
            "\n",
            "extracting from tar...\n",
            "checkpoints/\n",
            "checkpoints/8x5_5e-4_rad25_18:55:34/\n",
            "checkpoints/8x5_5e-4_rad25_18:55:34/model-000025000.pth\n",
            "deleting the tar...\n",
            "removed 'rad_checkpoint.tar.gz'\n",
            "done\n"
          ]
        }
      ]
    },
    {
      "cell_type": "code",
      "source": [
        "pwd"
      ],
      "metadata": {
        "colab": {
          "base_uri": "https://localhost:8080/",
          "height": 36
        },
        "id": "ruF_NgwsPmla",
        "outputId": "fd68c6a0-f71c-417f-bc02-14a14dd653e0"
      },
      "execution_count": 5,
      "outputs": [
        {
          "output_type": "execute_result",
          "data": {
            "text/plain": [
              "'/content/simple_bev'"
            ],
            "application/vnd.google.colaboratory.intrinsic+json": {
              "type": "string"
            }
          },
          "metadata": {},
          "execution_count": 5
        }
      ]
    },
    {
      "cell_type": "code",
      "source": [
        "!mkdir -p /content/simple_bev/datasets/nuscenes  # Make the directory to store the nuScenes dataset in.\n",
        "\n",
        "!wget https://www.nuscenes.org/data/v1.0-mini.tgz  # Download the nuScenes mini split.\n",
        "\n"
      ],
      "metadata": {
        "colab": {
          "base_uri": "https://localhost:8080/"
        },
        "id": "oQK9ybvJMQ4t",
        "outputId": "58bee384-d7a8-4243-f43f-6e0f79221a2b"
      },
      "execution_count": 6,
      "outputs": [
        {
          "output_type": "stream",
          "name": "stdout",
          "text": [
            "--2025-03-09 06:03:17--  https://www.nuscenes.org/data/v1.0-mini.tgz\n",
            "Resolving www.nuscenes.org (www.nuscenes.org)... 13.224.14.15, 13.224.14.105, 13.224.14.80, ...\n",
            "Connecting to www.nuscenes.org (www.nuscenes.org)|13.224.14.15|:443... connected.\n",
            "HTTP request sent, awaiting response... 200 OK\n",
            "Length: 4167696325 (3.9G) [application/x-tar]\n",
            "Saving to: ‘v1.0-mini.tgz’\n",
            "\n",
            "v1.0-mini.tgz       100%[===================>]   3.88G  80.5MB/s    in 50s     \n",
            "\n",
            "2025-03-09 06:04:07 (79.0 MB/s) - ‘v1.0-mini.tgz’ saved [4167696325/4167696325]\n",
            "\n"
          ]
        }
      ]
    },
    {
      "cell_type": "code",
      "source": [
        "!tar -xf /content/simple_bev/v1.0-mini.tgz -C /content/simple_bev/datasets/nuscenes # Uncompress the nuScenes mini split.\n",
        "\n",
        "!pip install nuscenes-devkit &> /dev/null  # Install nuScenes."
      ],
      "metadata": {
        "id": "6z65sO5cMQ1q"
      },
      "execution_count": 7,
      "outputs": []
    },
    {
      "cell_type": "code",
      "source": [
        "import torch\n",
        "\n",
        "device = torch.device(\"cuda\" if torch.cuda.is_available() else \"cpu\")\n",
        "\n",
        "print(device)\n"
      ],
      "metadata": {
        "colab": {
          "base_uri": "https://localhost:8080/"
        },
        "id": "nU7W1BQrV7cq",
        "outputId": "e7db1566-85c0-462b-e705-cde4621e98cf"
      },
      "execution_count": 8,
      "outputs": [
        {
          "output_type": "stream",
          "name": "stdout",
          "text": [
            "cuda\n"
          ]
        }
      ]
    },
    {
      "cell_type": "code",
      "source": [
        "!pip install tensorboardX"
      ],
      "metadata": {
        "colab": {
          "base_uri": "https://localhost:8080/"
        },
        "id": "3wcDirHdRcA9",
        "outputId": "72a65ee3-c903-42b1-c683-4d14936b75c8"
      },
      "execution_count": 9,
      "outputs": [
        {
          "output_type": "stream",
          "name": "stdout",
          "text": [
            "Collecting tensorboardX\n",
            "  Downloading tensorboardX-2.6.2.2-py2.py3-none-any.whl.metadata (5.8 kB)\n",
            "Requirement already satisfied: numpy in /usr/local/lib/python3.11/dist-packages (from tensorboardX) (1.26.4)\n",
            "Requirement already satisfied: packaging in /usr/local/lib/python3.11/dist-packages (from tensorboardX) (24.2)\n",
            "Requirement already satisfied: protobuf>=3.20 in /usr/local/lib/python3.11/dist-packages (from tensorboardX) (4.25.6)\n",
            "Downloading tensorboardX-2.6.2.2-py2.py3-none-any.whl (101 kB)\n",
            "\u001b[?25l   \u001b[90m━━━━━━━━━━━━━━━━━━━━━━━━━━━━━━━━━━━━━━━━\u001b[0m \u001b[32m0.0/101.7 kB\u001b[0m \u001b[31m?\u001b[0m eta \u001b[36m-:--:--\u001b[0m\r\u001b[2K   \u001b[90m━━━━━━━━━━━━━━━━━━━━━━━━━━━━━━━━━━━━━━━━\u001b[0m \u001b[32m101.7/101.7 kB\u001b[0m \u001b[31m3.0 MB/s\u001b[0m eta \u001b[36m0:00:00\u001b[0m\n",
            "\u001b[?25hInstalling collected packages: tensorboardX\n",
            "Successfully installed tensorboardX-2.6.2.2\n"
          ]
        }
      ]
    },
    {
      "cell_type": "code",
      "source": [
        "!pip install efficientnet_pytorch"
      ],
      "metadata": {
        "colab": {
          "base_uri": "https://localhost:8080/"
        },
        "id": "zJX5e9YKQGqZ",
        "outputId": "35638aaa-e94c-4e6b-8fc7-eeea9d3258b5"
      },
      "execution_count": 10,
      "outputs": [
        {
          "output_type": "stream",
          "name": "stdout",
          "text": [
            "Collecting efficientnet_pytorch\n",
            "  Using cached efficientnet_pytorch-0.7.1.tar.gz (21 kB)\n",
            "  Preparing metadata (setup.py) ... \u001b[?25l\u001b[?25hdone\n",
            "Requirement already satisfied: torch in /usr/local/lib/python3.11/dist-packages (from efficientnet_pytorch) (2.5.1+cu124)\n",
            "Requirement already satisfied: filelock in /usr/local/lib/python3.11/dist-packages (from torch->efficientnet_pytorch) (3.17.0)\n",
            "Requirement already satisfied: typing-extensions>=4.8.0 in /usr/local/lib/python3.11/dist-packages (from torch->efficientnet_pytorch) (4.12.2)\n",
            "Requirement already satisfied: networkx in /usr/local/lib/python3.11/dist-packages (from torch->efficientnet_pytorch) (3.4.2)\n",
            "Requirement already satisfied: jinja2 in /usr/local/lib/python3.11/dist-packages (from torch->efficientnet_pytorch) (3.1.5)\n",
            "Requirement already satisfied: fsspec in /usr/local/lib/python3.11/dist-packages (from torch->efficientnet_pytorch) (2024.10.0)\n",
            "Collecting nvidia-cuda-nvrtc-cu12==12.4.127 (from torch->efficientnet_pytorch)\n",
            "  Downloading nvidia_cuda_nvrtc_cu12-12.4.127-py3-none-manylinux2014_x86_64.whl.metadata (1.5 kB)\n",
            "Collecting nvidia-cuda-runtime-cu12==12.4.127 (from torch->efficientnet_pytorch)\n",
            "  Downloading nvidia_cuda_runtime_cu12-12.4.127-py3-none-manylinux2014_x86_64.whl.metadata (1.5 kB)\n",
            "Collecting nvidia-cuda-cupti-cu12==12.4.127 (from torch->efficientnet_pytorch)\n",
            "  Downloading nvidia_cuda_cupti_cu12-12.4.127-py3-none-manylinux2014_x86_64.whl.metadata (1.6 kB)\n",
            "Collecting nvidia-cudnn-cu12==9.1.0.70 (from torch->efficientnet_pytorch)\n",
            "  Downloading nvidia_cudnn_cu12-9.1.0.70-py3-none-manylinux2014_x86_64.whl.metadata (1.6 kB)\n",
            "Collecting nvidia-cublas-cu12==12.4.5.8 (from torch->efficientnet_pytorch)\n",
            "  Downloading nvidia_cublas_cu12-12.4.5.8-py3-none-manylinux2014_x86_64.whl.metadata (1.5 kB)\n",
            "Collecting nvidia-cufft-cu12==11.2.1.3 (from torch->efficientnet_pytorch)\n",
            "  Downloading nvidia_cufft_cu12-11.2.1.3-py3-none-manylinux2014_x86_64.whl.metadata (1.5 kB)\n",
            "Collecting nvidia-curand-cu12==10.3.5.147 (from torch->efficientnet_pytorch)\n",
            "  Downloading nvidia_curand_cu12-10.3.5.147-py3-none-manylinux2014_x86_64.whl.metadata (1.5 kB)\n",
            "Collecting nvidia-cusolver-cu12==11.6.1.9 (from torch->efficientnet_pytorch)\n",
            "  Downloading nvidia_cusolver_cu12-11.6.1.9-py3-none-manylinux2014_x86_64.whl.metadata (1.6 kB)\n",
            "Collecting nvidia-cusparse-cu12==12.3.1.170 (from torch->efficientnet_pytorch)\n",
            "  Downloading nvidia_cusparse_cu12-12.3.1.170-py3-none-manylinux2014_x86_64.whl.metadata (1.6 kB)\n",
            "Requirement already satisfied: nvidia-nccl-cu12==2.21.5 in /usr/local/lib/python3.11/dist-packages (from torch->efficientnet_pytorch) (2.21.5)\n",
            "Requirement already satisfied: nvidia-nvtx-cu12==12.4.127 in /usr/local/lib/python3.11/dist-packages (from torch->efficientnet_pytorch) (12.4.127)\n",
            "Collecting nvidia-nvjitlink-cu12==12.4.127 (from torch->efficientnet_pytorch)\n",
            "  Downloading nvidia_nvjitlink_cu12-12.4.127-py3-none-manylinux2014_x86_64.whl.metadata (1.5 kB)\n",
            "Requirement already satisfied: triton==3.1.0 in /usr/local/lib/python3.11/dist-packages (from torch->efficientnet_pytorch) (3.1.0)\n",
            "Requirement already satisfied: sympy==1.13.1 in /usr/local/lib/python3.11/dist-packages (from torch->efficientnet_pytorch) (1.13.1)\n",
            "Requirement already satisfied: mpmath<1.4,>=1.1.0 in /usr/local/lib/python3.11/dist-packages (from sympy==1.13.1->torch->efficientnet_pytorch) (1.3.0)\n",
            "Requirement already satisfied: MarkupSafe>=2.0 in /usr/local/lib/python3.11/dist-packages (from jinja2->torch->efficientnet_pytorch) (3.0.2)\n",
            "Downloading nvidia_cublas_cu12-12.4.5.8-py3-none-manylinux2014_x86_64.whl (363.4 MB)\n",
            "\u001b[2K   \u001b[90m━━━━━━━━━━━━━━━━━━━━━━━━━━━━━━━━━━━━━━━━\u001b[0m \u001b[32m363.4/363.4 MB\u001b[0m \u001b[31m3.8 MB/s\u001b[0m eta \u001b[36m0:00:00\u001b[0m\n",
            "\u001b[?25hDownloading nvidia_cuda_cupti_cu12-12.4.127-py3-none-manylinux2014_x86_64.whl (13.8 MB)\n",
            "\u001b[2K   \u001b[90m━━━━━━━━━━━━━━━━━━━━━━━━━━━━━━━━━━━━━━━━\u001b[0m \u001b[32m13.8/13.8 MB\u001b[0m \u001b[31m32.0 MB/s\u001b[0m eta \u001b[36m0:00:00\u001b[0m\n",
            "\u001b[?25hDownloading nvidia_cuda_nvrtc_cu12-12.4.127-py3-none-manylinux2014_x86_64.whl (24.6 MB)\n",
            "\u001b[2K   \u001b[90m━━━━━━━━━━━━━━━━━━━━━━━━━━━━━━━━━━━━━━━━\u001b[0m \u001b[32m24.6/24.6 MB\u001b[0m \u001b[31m28.4 MB/s\u001b[0m eta \u001b[36m0:00:00\u001b[0m\n",
            "\u001b[?25hDownloading nvidia_cuda_runtime_cu12-12.4.127-py3-none-manylinux2014_x86_64.whl (883 kB)\n",
            "\u001b[2K   \u001b[90m━━━━━━━━━━━━━━━━━━━━━━━━━━━━━━━━━━━━━━━━\u001b[0m \u001b[32m883.7/883.7 kB\u001b[0m \u001b[31m31.6 MB/s\u001b[0m eta \u001b[36m0:00:00\u001b[0m\n",
            "\u001b[?25hDownloading nvidia_cudnn_cu12-9.1.0.70-py3-none-manylinux2014_x86_64.whl (664.8 MB)\n",
            "\u001b[2K   \u001b[90m━━━━━━━━━━━━━━━━━━━━━━━━━━━━━━━━━━━━━━━━\u001b[0m \u001b[32m664.8/664.8 MB\u001b[0m \u001b[31m973.0 kB/s\u001b[0m eta \u001b[36m0:00:00\u001b[0m\n",
            "\u001b[?25hDownloading nvidia_cufft_cu12-11.2.1.3-py3-none-manylinux2014_x86_64.whl (211.5 MB)\n",
            "\u001b[2K   \u001b[90m━━━━━━━━━━━━━━━━━━━━━━━━━━━━━━━━━━━━━━━━\u001b[0m \u001b[32m211.5/211.5 MB\u001b[0m \u001b[31m5.5 MB/s\u001b[0m eta \u001b[36m0:00:00\u001b[0m\n",
            "\u001b[?25hDownloading nvidia_curand_cu12-10.3.5.147-py3-none-manylinux2014_x86_64.whl (56.3 MB)\n",
            "\u001b[2K   \u001b[90m━━━━━━━━━━━━━━━━━━━━━━━━━━━━━━━━━━━━━━━━\u001b[0m \u001b[32m56.3/56.3 MB\u001b[0m \u001b[31m14.5 MB/s\u001b[0m eta \u001b[36m0:00:00\u001b[0m\n",
            "\u001b[?25hDownloading nvidia_cusolver_cu12-11.6.1.9-py3-none-manylinux2014_x86_64.whl (127.9 MB)\n",
            "\u001b[2K   \u001b[90m━━━━━━━━━━━━━━━━━━━━━━━━━━━━━━━━━━━━━━━━\u001b[0m \u001b[32m127.9/127.9 MB\u001b[0m \u001b[31m7.5 MB/s\u001b[0m eta \u001b[36m0:00:00\u001b[0m\n",
            "\u001b[?25hDownloading nvidia_cusparse_cu12-12.3.1.170-py3-none-manylinux2014_x86_64.whl (207.5 MB)\n",
            "\u001b[2K   \u001b[90m━━━━━━━━━━━━━━━━━━━━━━━━━━━━━━━━━━━━━━━━\u001b[0m \u001b[32m207.5/207.5 MB\u001b[0m \u001b[31m6.0 MB/s\u001b[0m eta \u001b[36m0:00:00\u001b[0m\n",
            "\u001b[?25hDownloading nvidia_nvjitlink_cu12-12.4.127-py3-none-manylinux2014_x86_64.whl (21.1 MB)\n",
            "\u001b[2K   \u001b[90m━━━━━━━━━━━━━━━━━━━━━━━━━━━━━━━━━━━━━━━━\u001b[0m \u001b[32m21.1/21.1 MB\u001b[0m \u001b[31m87.3 MB/s\u001b[0m eta \u001b[36m0:00:00\u001b[0m\n",
            "\u001b[?25hBuilding wheels for collected packages: efficientnet_pytorch\n",
            "  Building wheel for efficientnet_pytorch (setup.py) ... \u001b[?25l\u001b[?25hdone\n",
            "  Created wheel for efficientnet_pytorch: filename=efficientnet_pytorch-0.7.1-py3-none-any.whl size=16424 sha256=9cda8167af41d5037dd24023387ae53ca67d80243b8dabd95d13ae16205d4782\n",
            "  Stored in directory: /root/.cache/pip/wheels/8b/6f/9b/231a832f811ab6ebb1b32455b177ffc6b8b1cd8de19de70c09\n",
            "Successfully built efficientnet_pytorch\n",
            "Installing collected packages: nvidia-nvjitlink-cu12, nvidia-curand-cu12, nvidia-cufft-cu12, nvidia-cuda-runtime-cu12, nvidia-cuda-nvrtc-cu12, nvidia-cuda-cupti-cu12, nvidia-cublas-cu12, nvidia-cusparse-cu12, nvidia-cudnn-cu12, nvidia-cusolver-cu12, efficientnet_pytorch\n",
            "  Attempting uninstall: nvidia-nvjitlink-cu12\n",
            "    Found existing installation: nvidia-nvjitlink-cu12 12.5.82\n",
            "    Uninstalling nvidia-nvjitlink-cu12-12.5.82:\n",
            "      Successfully uninstalled nvidia-nvjitlink-cu12-12.5.82\n",
            "  Attempting uninstall: nvidia-curand-cu12\n",
            "    Found existing installation: nvidia-curand-cu12 10.3.6.82\n",
            "    Uninstalling nvidia-curand-cu12-10.3.6.82:\n",
            "      Successfully uninstalled nvidia-curand-cu12-10.3.6.82\n",
            "  Attempting uninstall: nvidia-cufft-cu12\n",
            "    Found existing installation: nvidia-cufft-cu12 11.2.3.61\n",
            "    Uninstalling nvidia-cufft-cu12-11.2.3.61:\n",
            "      Successfully uninstalled nvidia-cufft-cu12-11.2.3.61\n",
            "  Attempting uninstall: nvidia-cuda-runtime-cu12\n",
            "    Found existing installation: nvidia-cuda-runtime-cu12 12.5.82\n",
            "    Uninstalling nvidia-cuda-runtime-cu12-12.5.82:\n",
            "      Successfully uninstalled nvidia-cuda-runtime-cu12-12.5.82\n",
            "  Attempting uninstall: nvidia-cuda-nvrtc-cu12\n",
            "    Found existing installation: nvidia-cuda-nvrtc-cu12 12.5.82\n",
            "    Uninstalling nvidia-cuda-nvrtc-cu12-12.5.82:\n",
            "      Successfully uninstalled nvidia-cuda-nvrtc-cu12-12.5.82\n",
            "  Attempting uninstall: nvidia-cuda-cupti-cu12\n",
            "    Found existing installation: nvidia-cuda-cupti-cu12 12.5.82\n",
            "    Uninstalling nvidia-cuda-cupti-cu12-12.5.82:\n",
            "      Successfully uninstalled nvidia-cuda-cupti-cu12-12.5.82\n",
            "  Attempting uninstall: nvidia-cublas-cu12\n",
            "    Found existing installation: nvidia-cublas-cu12 12.5.3.2\n",
            "    Uninstalling nvidia-cublas-cu12-12.5.3.2:\n",
            "      Successfully uninstalled nvidia-cublas-cu12-12.5.3.2\n",
            "  Attempting uninstall: nvidia-cusparse-cu12\n",
            "    Found existing installation: nvidia-cusparse-cu12 12.5.1.3\n",
            "    Uninstalling nvidia-cusparse-cu12-12.5.1.3:\n",
            "      Successfully uninstalled nvidia-cusparse-cu12-12.5.1.3\n",
            "  Attempting uninstall: nvidia-cudnn-cu12\n",
            "    Found existing installation: nvidia-cudnn-cu12 9.3.0.75\n",
            "    Uninstalling nvidia-cudnn-cu12-9.3.0.75:\n",
            "      Successfully uninstalled nvidia-cudnn-cu12-9.3.0.75\n",
            "  Attempting uninstall: nvidia-cusolver-cu12\n",
            "    Found existing installation: nvidia-cusolver-cu12 11.6.3.83\n",
            "    Uninstalling nvidia-cusolver-cu12-11.6.3.83:\n",
            "      Successfully uninstalled nvidia-cusolver-cu12-11.6.3.83\n",
            "Successfully installed efficientnet_pytorch-0.7.1 nvidia-cublas-cu12-12.4.5.8 nvidia-cuda-cupti-cu12-12.4.127 nvidia-cuda-nvrtc-cu12-12.4.127 nvidia-cuda-runtime-cu12-12.4.127 nvidia-cudnn-cu12-9.1.0.70 nvidia-cufft-cu12-11.2.1.3 nvidia-curand-cu12-10.3.5.147 nvidia-cusolver-cu12-11.6.1.9 nvidia-cusparse-cu12-12.3.1.170 nvidia-nvjitlink-cu12-12.4.127\n"
          ]
        }
      ]
    },
    {
      "cell_type": "code",
      "source": [
        "!pip install lyft_dataset_sdk"
      ],
      "metadata": {
        "colab": {
          "base_uri": "https://localhost:8080/"
        },
        "id": "e3_5gXJqYskc",
        "outputId": "1fa3749c-0ced-44b5-ae01-1f5fe4b5bc95"
      },
      "execution_count": 11,
      "outputs": [
        {
          "output_type": "stream",
          "name": "stdout",
          "text": [
            "Collecting lyft_dataset_sdk\n",
            "  Downloading lyft_dataset_sdk-0.0.8-py2.py3-none-any.whl.metadata (3.6 kB)\n",
            "Collecting flake8 (from lyft_dataset_sdk)\n",
            "  Downloading flake8-7.1.2-py2.py3-none-any.whl.metadata (3.8 kB)\n",
            "Requirement already satisfied: numpy>=1.14.5 in /usr/local/lib/python3.11/dist-packages (from lyft_dataset_sdk) (1.26.4)\n",
            "Requirement already satisfied: opencv-python>=3.4.2.17 in /usr/local/lib/python3.11/dist-packages (from lyft_dataset_sdk) (4.11.0.86)\n",
            "Requirement already satisfied: Pillow>=5.2.0 in /usr/local/lib/python3.11/dist-packages (from lyft_dataset_sdk) (11.1.0)\n",
            "Requirement already satisfied: pyquaternion>=0.9.5 in /usr/local/lib/python3.11/dist-packages (from lyft_dataset_sdk) (0.9.9)\n",
            "Requirement already satisfied: scikit-learn>=0.19.2 in /usr/local/lib/python3.11/dist-packages (from lyft_dataset_sdk) (1.6.1)\n",
            "Requirement already satisfied: tqdm>=4.25.0 in /usr/local/lib/python3.11/dist-packages (from lyft_dataset_sdk) (4.67.1)\n",
            "Requirement already satisfied: scipy>=1.1.0 in /usr/local/lib/python3.11/dist-packages (from lyft_dataset_sdk) (1.13.1)\n",
            "Requirement already satisfied: cachetools>=3.1.0 in /usr/local/lib/python3.11/dist-packages (from lyft_dataset_sdk) (5.5.2)\n",
            "Requirement already satisfied: Shapely>=1.6.4.post2 in /usr/local/lib/python3.11/dist-packages (from lyft_dataset_sdk) (1.8.5.post1)\n",
            "Requirement already satisfied: fire in /usr/local/lib/python3.11/dist-packages (from lyft_dataset_sdk) (0.7.0)\n",
            "Requirement already satisfied: pytest in /usr/local/lib/python3.11/dist-packages (from lyft_dataset_sdk) (8.3.5)\n",
            "Collecting black (from lyft_dataset_sdk)\n",
            "  Downloading black-25.1.0-cp311-cp311-manylinux_2_17_x86_64.manylinux2014_x86_64.manylinux_2_28_x86_64.whl.metadata (81 kB)\n",
            "\u001b[2K     \u001b[90m━━━━━━━━━━━━━━━━━━━━━━━━━━━━━━━━━━━━━━━━\u001b[0m \u001b[32m81.3/81.3 kB\u001b[0m \u001b[31m3.5 MB/s\u001b[0m eta \u001b[36m0:00:00\u001b[0m\n",
            "\u001b[?25hRequirement already satisfied: matplotlib in /usr/local/lib/python3.11/dist-packages (from lyft_dataset_sdk) (3.5.3)\n",
            "Requirement already satisfied: pandas in /usr/local/lib/python3.11/dist-packages (from lyft_dataset_sdk) (2.2.2)\n",
            "Requirement already satisfied: plotly in /usr/local/lib/python3.11/dist-packages (from lyft_dataset_sdk) (5.24.1)\n",
            "Requirement already satisfied: joblib>=1.2.0 in /usr/local/lib/python3.11/dist-packages (from scikit-learn>=0.19.2->lyft_dataset_sdk) (1.4.2)\n",
            "Requirement already satisfied: threadpoolctl>=3.1.0 in /usr/local/lib/python3.11/dist-packages (from scikit-learn>=0.19.2->lyft_dataset_sdk) (3.5.0)\n",
            "Requirement already satisfied: click>=8.0.0 in /usr/local/lib/python3.11/dist-packages (from black->lyft_dataset_sdk) (8.1.8)\n",
            "Collecting mypy-extensions>=0.4.3 (from black->lyft_dataset_sdk)\n",
            "  Downloading mypy_extensions-1.0.0-py3-none-any.whl.metadata (1.1 kB)\n",
            "Requirement already satisfied: packaging>=22.0 in /usr/local/lib/python3.11/dist-packages (from black->lyft_dataset_sdk) (24.2)\n",
            "Collecting pathspec>=0.9.0 (from black->lyft_dataset_sdk)\n",
            "  Downloading pathspec-0.12.1-py3-none-any.whl.metadata (21 kB)\n",
            "Requirement already satisfied: platformdirs>=2 in /usr/local/lib/python3.11/dist-packages (from black->lyft_dataset_sdk) (4.3.6)\n",
            "Requirement already satisfied: termcolor in /usr/local/lib/python3.11/dist-packages (from fire->lyft_dataset_sdk) (2.5.0)\n",
            "Collecting mccabe<0.8.0,>=0.7.0 (from flake8->lyft_dataset_sdk)\n",
            "  Downloading mccabe-0.7.0-py2.py3-none-any.whl.metadata (5.0 kB)\n",
            "Collecting pycodestyle<2.13.0,>=2.12.0 (from flake8->lyft_dataset_sdk)\n",
            "  Downloading pycodestyle-2.12.1-py2.py3-none-any.whl.metadata (4.5 kB)\n",
            "Collecting pyflakes<3.3.0,>=3.2.0 (from flake8->lyft_dataset_sdk)\n",
            "  Downloading pyflakes-3.2.0-py2.py3-none-any.whl.metadata (3.5 kB)\n",
            "Requirement already satisfied: cycler>=0.10 in /usr/local/lib/python3.11/dist-packages (from matplotlib->lyft_dataset_sdk) (0.12.1)\n",
            "Requirement already satisfied: fonttools>=4.22.0 in /usr/local/lib/python3.11/dist-packages (from matplotlib->lyft_dataset_sdk) (4.56.0)\n",
            "Requirement already satisfied: kiwisolver>=1.0.1 in /usr/local/lib/python3.11/dist-packages (from matplotlib->lyft_dataset_sdk) (1.4.8)\n",
            "Requirement already satisfied: pyparsing>=2.2.1 in /usr/local/lib/python3.11/dist-packages (from matplotlib->lyft_dataset_sdk) (3.2.1)\n",
            "Requirement already satisfied: python-dateutil>=2.7 in /usr/local/lib/python3.11/dist-packages (from matplotlib->lyft_dataset_sdk) (2.8.2)\n",
            "Requirement already satisfied: pytz>=2020.1 in /usr/local/lib/python3.11/dist-packages (from pandas->lyft_dataset_sdk) (2025.1)\n",
            "Requirement already satisfied: tzdata>=2022.7 in /usr/local/lib/python3.11/dist-packages (from pandas->lyft_dataset_sdk) (2025.1)\n",
            "Requirement already satisfied: tenacity>=6.2.0 in /usr/local/lib/python3.11/dist-packages (from plotly->lyft_dataset_sdk) (9.0.0)\n",
            "Requirement already satisfied: iniconfig in /usr/local/lib/python3.11/dist-packages (from pytest->lyft_dataset_sdk) (2.0.0)\n",
            "Requirement already satisfied: pluggy<2,>=1.5 in /usr/local/lib/python3.11/dist-packages (from pytest->lyft_dataset_sdk) (1.5.0)\n",
            "Requirement already satisfied: six>=1.5 in /usr/local/lib/python3.11/dist-packages (from python-dateutil>=2.7->matplotlib->lyft_dataset_sdk) (1.17.0)\n",
            "Downloading lyft_dataset_sdk-0.0.8-py2.py3-none-any.whl (32 kB)\n",
            "Downloading black-25.1.0-cp311-cp311-manylinux_2_17_x86_64.manylinux2014_x86_64.manylinux_2_28_x86_64.whl (1.7 MB)\n",
            "\u001b[2K   \u001b[90m━━━━━━━━━━━━━━━━━━━━━━━━━━━━━━━━━━━━━━━━\u001b[0m \u001b[32m1.7/1.7 MB\u001b[0m \u001b[31m33.3 MB/s\u001b[0m eta \u001b[36m0:00:00\u001b[0m\n",
            "\u001b[?25hDownloading flake8-7.1.2-py2.py3-none-any.whl (57 kB)\n",
            "\u001b[2K   \u001b[90m━━━━━━━━━━━━━━━━━━━━━━━━━━━━━━━━━━━━━━━━\u001b[0m \u001b[32m57.7/57.7 kB\u001b[0m \u001b[31m4.9 MB/s\u001b[0m eta \u001b[36m0:00:00\u001b[0m\n",
            "\u001b[?25hDownloading mccabe-0.7.0-py2.py3-none-any.whl (7.3 kB)\n",
            "Downloading mypy_extensions-1.0.0-py3-none-any.whl (4.7 kB)\n",
            "Downloading pathspec-0.12.1-py3-none-any.whl (31 kB)\n",
            "Downloading pycodestyle-2.12.1-py2.py3-none-any.whl (31 kB)\n",
            "Downloading pyflakes-3.2.0-py2.py3-none-any.whl (62 kB)\n",
            "\u001b[2K   \u001b[90m━━━━━━━━━━━━━━━━━━━━━━━━━━━━━━━━━━━━━━━━\u001b[0m \u001b[32m62.7/62.7 kB\u001b[0m \u001b[31m3.6 MB/s\u001b[0m eta \u001b[36m0:00:00\u001b[0m\n",
            "\u001b[?25hInstalling collected packages: pyflakes, pycodestyle, pathspec, mypy-extensions, mccabe, flake8, black, lyft_dataset_sdk\n",
            "Successfully installed black-25.1.0 flake8-7.1.2 lyft_dataset_sdk-0.0.8 mccabe-0.7.0 mypy-extensions-1.0.0 pathspec-0.12.1 pycodestyle-2.12.1 pyflakes-3.2.0\n"
          ]
        }
      ]
    },
    {
      "cell_type": "code",
      "source": [
        "!python eval_nuscenes.py \\\n",
        "    --batch_size=4 \\\n",
        "    --data_dir='/content/simple_bev/datasets/nuscenes' \\\n",
        "    --log_dir='logs_eval_nuscenes_bevseg' \\\n",
        "    --init_dir='/content/simple_bev/checkpoints/8x5_5e-4_rgb12_22:43:46' \\\n",
        "    --res_scale=2 \\\n",
        "    --device_ids=[0]\n"
      ],
      "metadata": {
        "colab": {
          "base_uri": "https://localhost:8080/"
        },
        "id": "pas6uihnMQwg",
        "outputId": "362b6bc9-f60f-478f-f5d9-34a706b9b92e"
      },
      "execution_count": 16,
      "outputs": [
        {
          "output_type": "stream",
          "name": "stdout",
          "text": [
            "model_name 8x5_5e-4_rgb12_22:43:46_4_eval_06:12:32\n",
            "resolution: (448, 800)\n",
            "loading nuscenes...\n",
            "making parser...\n",
            "indices (323, 1)\n",
            "NuscData: 323 samples. Split: train.\n",
            "                   Augmentation Conf: {'final_dim': (448, 800), 'cams': ['CAM_FRONT_LEFT', 'CAM_FRONT', 'CAM_FRONT_RIGHT', 'CAM_BACK_LEFT', 'CAM_BACK', 'CAM_BACK_RIGHT'], 'ncams': 6}\n",
            "indices (81, 1)\n",
            "NuscData: 81 samples. Split: val.\n",
            "                   Augmentation Conf: {'final_dim': (448, 800), 'cams': ['CAM_FRONT_LEFT', 'CAM_FRONT', 'CAM_FRONT_RIGHT', 'CAM_BACK_LEFT', 'CAM_BACK', 'CAM_BACK_RIGHT'], 'ncams': 6}\n",
            "/usr/local/lib/python3.11/dist-packages/torch/utils/data/dataloader.py:617: UserWarning: This DataLoader will create 12 worker processes in total. Our suggested max number of worker in current system is 2, which is smaller than what this DataLoader is going to create. Please be aware that excessive worker creation might get DataLoader running slow or even freeze, lower the worker number to avoid potential slowness/freeze if necessary.\n",
            "  warnings.warn(\n",
            "data ready\n",
            "/usr/local/lib/python3.11/dist-packages/torchvision/models/_utils.py:208: UserWarning: The parameter 'pretrained' is deprecated since 0.13 and may be removed in the future, please use 'weights' instead.\n",
            "  warnings.warn(\n",
            "/usr/local/lib/python3.11/dist-packages/torchvision/models/_utils.py:223: UserWarning: Arguments other than a weight enum or `None` for 'weights' are deprecated since 0.13 and may be removed in the future. The current behavior is equivalent to passing `weights=ResNet101_Weights.IMAGENET1K_V1`. You can also use `weights=ResNet101_Weights.DEFAULT` to get the most up-to-date weights.\n",
            "  warnings.warn(msg)\n",
            "Downloading: \"https://download.pytorch.org/models/resnet101-63fe2227.pth\" to /root/.cache/torch/hub/checkpoints/resnet101-63fe2227.pth\n",
            "100% 171M/171M [00:11<00:00, 15.6MB/s]\n",
            "/usr/local/lib/python3.11/dist-packages/torchvision/models/_utils.py:223: UserWarning: Arguments other than a weight enum or `None` for 'weights' are deprecated since 0.13 and may be removed in the future. The current behavior is equivalent to passing `weights=None`.\n",
            "  warnings.warn(msg)\n",
            "total_params 42048711\n",
            "reading ckpt from /content/simple_bev/checkpoints/8x5_5e-4_rgb12_22:43:46\n",
            "...found checkpoint /content/simple_bev/checkpoints/8x5_5e-4_rgb12_22:43:46/model-000025000.pth\n",
            "/content/simple_bev/saverloader.py:62: FutureWarning: You are using `torch.load` with `weights_only=False` (the current default value), which uses the default pickle module implicitly. It is possible to construct malicious pickle data which will execute arbitrary code during unpickling (See https://github.com/pytorch/pytorch/blob/main/SECURITY.md#untrusted-models for more details). In a future release, the default value for `weights_only` will be flipped to `True`. This limits the functions that could be executed during unpickling. Arbitrary objects will no longer be allowed to be loaded via this mode unless they are explicitly allowlisted by the user via `torch.serialization.add_safe_globals`. We recommend you start setting `weights_only=True` for any use case where you don't have full control of the loaded file. Please open an issue on GitHub for any issues related to this experimental feature.\n",
            "  checkpoint = torch.load(path, map_location=device)\n",
            "8x5_5e-4_rgb12_22:43:46_4_eval_06:12:32; step 000001/20; rtime 0.01; itime 2.88 (2883.33 ms); loss 2.61083; iou_ev 55.4\n",
            "8x5_5e-4_rgb12_22:43:46_4_eval_06:12:32; step 000002/20; rtime 0.03; itime 1.39 (2135.76 ms); loss 4.26774; iou_ev 55.4\n",
            "8x5_5e-4_rgb12_22:43:46_4_eval_06:12:32; step 000003/20; rtime 0.05; itime 1.42 (1896.11 ms); loss 2.19172; iou_ev 51.5\n",
            "8x5_5e-4_rgb12_22:43:46_4_eval_06:12:32; step 000004/20; rtime 0.04; itime 1.42 (1775.93 ms); loss 1.55265; iou_ev 51.6\n",
            "8x5_5e-4_rgb12_22:43:46_4_eval_06:12:32; step 000005/20; rtime 0.04; itime 1.41 (1703.18 ms); loss 3.90031; iou_ev 51.3\n",
            "8x5_5e-4_rgb12_22:43:46_4_eval_06:12:32; step 000006/20; rtime 0.03; itime 1.38 (1650.11 ms); loss 3.25109; iou_ev 51.5\n",
            "8x5_5e-4_rgb12_22:43:46_4_eval_06:12:32; step 000007/20; rtime 0.02; itime 1.39 (1612.87 ms); loss 3.01142; iou_ev 51.1\n",
            "8x5_5e-4_rgb12_22:43:46_4_eval_06:12:32; step 000008/20; rtime 0.02; itime 1.38 (1584.38 ms); loss 5.20864; iou_ev 50.5\n",
            "8x5_5e-4_rgb12_22:43:46_4_eval_06:12:32; step 000009/20; rtime 0.02; itime 1.39 (1562.88 ms); loss 3.18122; iou_ev 50.1\n",
            "8x5_5e-4_rgb12_22:43:46_4_eval_06:12:32; step 000010/20; rtime 0.02; itime 1.40 (1546.25 ms); loss 2.76588; iou_ev 49.6\n",
            "8x5_5e-4_rgb12_22:43:46_4_eval_06:12:32; step 000011/20; rtime 0.02; itime 1.40 (1532.52 ms); loss 1.49694; iou_ev 49.4\n",
            "8x5_5e-4_rgb12_22:43:46_4_eval_06:12:32; step 000012/20; rtime 0.04; itime 1.41 (1522.60 ms); loss 0.29988; iou_ev 49.5\n",
            "8x5_5e-4_rgb12_22:43:46_4_eval_06:12:32; step 000013/20; rtime 0.06; itime 1.44 (1516.33 ms); loss -0.24335; iou_ev 50.0\n",
            "8x5_5e-4_rgb12_22:43:46_4_eval_06:12:32; step 000014/20; rtime 0.04; itime 1.42 (1509.45 ms); loss 0.73640; iou_ev 50.0\n",
            "8x5_5e-4_rgb12_22:43:46_4_eval_06:12:32; step 000015/20; rtime 0.05; itime 1.43 (1504.30 ms); loss 1.23849; iou_ev 50.2\n",
            "8x5_5e-4_rgb12_22:43:46_4_eval_06:12:32; step 000016/20; rtime 0.03; itime 1.40 (1497.88 ms); loss 1.40093; iou_ev 50.6\n",
            "8x5_5e-4_rgb12_22:43:46_4_eval_06:12:32; step 000017/20; rtime 0.03; itime 1.41 (1492.64 ms); loss 0.95781; iou_ev 50.9\n",
            "8x5_5e-4_rgb12_22:43:46_4_eval_06:12:32; step 000018/20; rtime 0.03; itime 1.40 (1487.69 ms); loss 1.39125; iou_ev 51.1\n",
            "8x5_5e-4_rgb12_22:43:46_4_eval_06:12:32; step 000019/20; rtime 0.03; itime 1.41 (1483.56 ms); loss 1.11533; iou_ev 51.7\n",
            "8x5_5e-4_rgb12_22:43:46_4_eval_06:12:32; step 000020/20; rtime 0.03; itime 1.41 (1479.75 ms); loss 0.66789; iou_ev 52.0\n",
            "final  mean iou 52.015772263896906\n"
          ]
        }
      ]
    },
    {
      "cell_type": "code",
      "source": [
        "# odel_name 8x5_5e-4_rgb12_22:43:46_4_eval_06:12:32\n",
        "# resolution: (448, 800)\n",
        "# loading nuscenes...\n",
        "# making parser...\n",
        "# indices (323, 1)\n",
        "# NuscData: 323 samples. Split: train.\n",
        "#                    Augmentation Conf: {'final_dim': (448, 800), 'cams': ['CAM_FRONT_LEFT', 'CAM_FRONT', 'CAM_FRONT_RIGHT', 'CAM_BACK_LEFT', 'CAM_BACK', 'CAM_BACK_RIGHT'], 'ncams': 6}\n",
        "# indices (81, 1)\n",
        "# NuscData: 81 samples. Split: val.\n",
        "#                    Augmentation Conf: {'final_dim': (448, 800), 'cams': ['CAM_FRONT_LEFT', 'CAM_FRONT', 'CAM_FRONT_RIGHT', 'CAM_BACK_LEFT', 'CAM_BACK', 'CAM_BACK_RIGHT'], 'ncams': 6}\n",
        "# /usr/local/lib/python3.11/dist-packages/torch/utils/data/dataloader.py:617: UserWarning: This DataLoader will create 12 worker processes in total. Our suggested max number of worker in current system is 2, which is smaller than what this DataLoader is going to create. Please be aware that excessive worker creation might get DataLoader running slow or even freeze, lower the worker number to avoid potential slowness/freeze if necessary.\n",
        "#   warnings.warn(\n",
        "# data ready\n",
        "# /usr/local/lib/python3.11/dist-packages/torchvision/models/_utils.py:208: UserWarning: The parameter 'pretrained' is deprecated since 0.13 and may be removed in the future, please use 'weights' instead.\n",
        "#   warnings.warn(\n",
        "# /usr/local/lib/python3.11/dist-packages/torchvision/models/_utils.py:223: UserWarning: Arguments other than a weight enum or `None` for 'weights' are deprecated since 0.13 and may be removed in the future. The current behavior is equivalent to passing `weights=ResNet101_Weights.IMAGENET1K_V1`. You can also use `weights=ResNet101_Weights.DEFAULT` to get the most up-to-date weights.\n",
        "#   warnings.warn(msg)\n",
        "# Downloading: \"https://download.pytorch.org/models/resnet101-63fe2227.pth\" to /root/.cache/torch/hub/checkpoints/resnet101-63fe2227.pth\n",
        "# 100% 171M/171M [00:11<00:00, 15.6MB/s]\n",
        "# /usr/local/lib/python3.11/dist-packages/torchvision/models/_utils.py:223: UserWarning: Arguments other than a weight enum or `None` for 'weights' are deprecated since 0.13 and may be removed in the future. The current behavior is equivalent to passing `weights=None`.\n",
        "#   warnings.warn(msg)\n",
        "# total_params 42048711\n",
        "# reading ckpt from /content/simple_bev/checkpoints/8x5_5e-4_rgb12_22:43:46\n",
        "# ...found checkpoint /content/simple_bev/checkpoints/8x5_5e-4_rgb12_22:43:46/model-000025000.pth\n",
        "# /content/simple_bev/saverloader.py:62: FutureWarning: You are using `torch.load` with `weights_only=False` (the current default value), which uses the default pickle module implicitly. It is possible to construct malicious pickle data which will execute arbitrary code during unpickling (See https://github.com/pytorch/pytorch/blob/main/SECURITY.md#untrusted-models for more details). In a future release, the default value for `weights_only` will be flipped to `True`. This limits the functions that could be executed during unpickling. Arbitrary objects will no longer be allowed to be loaded via this mode unless they are explicitly allowlisted by the user via `torch.serialization.add_safe_globals`. We recommend you start setting `weights_only=True` for any use case where you don't have full control of the loaded file. Please open an issue on GitHub for any issues related to this experimental feature.\n",
        "#   checkpoint = torch.load(path, map_location=device)\n",
        "# 8x5_5e-4_rgb12_22:43:46_4_eval_06:12:32; step 000001/20; rtime 0.01; itime 2.88 (2883.33 ms); loss 2.61083; iou_ev 55.4\n",
        "# 8x5_5e-4_rgb12_22:43:46_4_eval_06:12:32; step 000002/20; rtime 0.03; itime 1.39 (2135.76 ms); loss 4.26774; iou_ev 55.4\n",
        "# 8x5_5e-4_rgb12_22:43:46_4_eval_06:12:32; step 000003/20; rtime 0.05; itime 1.42 (1896.11 ms); loss 2.19172; iou_ev 51.5\n",
        "# 8x5_5e-4_rgb12_22:43:46_4_eval_06:12:32; step 000004/20; rtime 0.04; itime 1.42 (1775.93 ms); loss 1.55265; iou_ev 51.6\n",
        "# 8x5_5e-4_rgb12_22:43:46_4_eval_06:12:32; step 000005/20; rtime 0.04; itime 1.41 (1703.18 ms); loss 3.90031; iou_ev 51.3\n",
        "# 8x5_5e-4_rgb12_22:43:46_4_eval_06:12:32; step 000006/20; rtime 0.03; itime 1.38 (1650.11 ms); loss 3.25109; iou_ev 51.5\n",
        "# 8x5_5e-4_rgb12_22:43:46_4_eval_06:12:32; step 000007/20; rtime 0.02; itime 1.39 (1612.87 ms); loss 3.01142; iou_ev 51.1\n",
        "# 8x5_5e-4_rgb12_22:43:46_4_eval_06:12:32; step 000008/20; rtime 0.02; itime 1.38 (1584.38 ms); loss 5.20864; iou_ev 50.5\n",
        "# 8x5_5e-4_rgb12_22:43:46_4_eval_06:12:32; step 000009/20; rtime 0.02; itime 1.39 (1562.88 ms); loss 3.18122; iou_ev 50.1\n",
        "# 8x5_5e-4_rgb12_22:43:46_4_eval_06:12:32; step 000010/20; rtime 0.02; itime 1.40 (1546.25 ms); loss 2.76588; iou_ev 49.6\n",
        "# 8x5_5e-4_rgb12_22:43:46_4_eval_06:12:32; step 000011/20; rtime 0.02; itime 1.40 (1532.52 ms); loss 1.49694; iou_ev 49.4\n",
        "# 8x5_5e-4_rgb12_22:43:46_4_eval_06:12:32; step 000012/20; rtime 0.04; itime 1.41 (1522.60 ms); loss 0.29988; iou_ev 49.5\n",
        "# 8x5_5e-4_rgb12_22:43:46_4_eval_06:12:32; step 000013/20; rtime 0.06; itime 1.44 (1516.33 ms); loss -0.24335; iou_ev 50.0\n",
        "# 8x5_5e-4_rgb12_22:43:46_4_eval_06:12:32; step 000014/20; rtime 0.04; itime 1.42 (1509.45 ms); loss 0.73640; iou_ev 50.0\n",
        "# 8x5_5e-4_rgb12_22:43:46_4_eval_06:12:32; step 000015/20; rtime 0.05; itime 1.43 (1504.30 ms); loss 1.23849; iou_ev 50.2\n",
        "# 8x5_5e-4_rgb12_22:43:46_4_eval_06:12:32; step 000016/20; rtime 0.03; itime 1.40 (1497.88 ms); loss 1.40093; iou_ev 50.6\n",
        "# 8x5_5e-4_rgb12_22:43:46_4_eval_06:12:32; step 000017/20; rtime 0.03; itime 1.41 (1492.64 ms); loss 0.95781; iou_ev 50.9\n",
        "# 8x5_5e-4_rgb12_22:43:46_4_eval_06:12:32; step 000018/20; rtime 0.03; itime 1.40 (1487.69 ms); loss 1.39125; iou_ev 51.1\n",
        "# 8x5_5e-4_rgb12_22:43:46_4_eval_06:12:32; step 000019/20; rtime 0.03; itime 1.41 (1483.56 ms); loss 1.11533; iou_ev 51.7\n",
        "# 8x5_5e-4_rgb12_22:43:46_4_eval_06:12:32; step 000020/20; rtime 0.03; itime 1.41 (1479.75 ms); loss 0.66789; iou_ev 52.0\n",
        "# final  mean iou 52.015772263896906"
      ],
      "metadata": {
        "id": "E7eQCbjtj-C3"
      },
      "execution_count": null,
      "outputs": []
    },
    {
      "cell_type": "code",
      "source": [
        "import torch\n",
        "print(torch.cuda.is_available())\n",
        "print(torch.cuda.device_count())\n"
      ],
      "metadata": {
        "colab": {
          "base_uri": "https://localhost:8080/"
        },
        "id": "iU3wz7gbbq2e",
        "outputId": "a4bb7848-82fa-4c3e-d169-ba1a4c40ae9d"
      },
      "execution_count": 13,
      "outputs": [
        {
          "output_type": "stream",
          "name": "stdout",
          "text": [
            "True\n",
            "1\n"
          ]
        }
      ]
    },
    {
      "cell_type": "code",
      "source": [
        "import torch\n",
        "torch.cuda.empty_cache()  # Clears unused memory\n"
      ],
      "metadata": {
        "id": "PYCDEmlEfJHg"
      },
      "execution_count": 17,
      "outputs": []
    },
    {
      "cell_type": "code",
      "source": [
        "!python eval_nuscenes.py \\\n",
        "       --batch_size=1 \\\n",
        "       --data_dir='/content/simple_bev/datasets/nuscenes' \\\n",
        "       --log_dir='logs_eval_nuscenes' \\\n",
        "       --init_dir='/content/simple_bev/checkpoints/8x5_5e-4_rad25_18:55:34' \\\n",
        "       --use_radar=True \\\n",
        "       --use_metaradar=True \\\n",
        "       --use_radar_filters=False \\\n",
        "       --res_scale=2 \\\n",
        "       --nsweeps=5 \\\n",
        "       --device_ids=[0]"
      ],
      "metadata": {
        "colab": {
          "base_uri": "https://localhost:8080/"
        },
        "id": "a3g6f0EoQGm1",
        "outputId": "75e78c99-187d-44d0-c7f2-a2c3aadaa0d3"
      },
      "execution_count": 21,
      "outputs": [
        {
          "output_type": "stream",
          "name": "stdout",
          "text": [
            "model_name 8x5_5e-4_rad25_18:55:34_1_eval_06:18:47\n",
            "resolution: (448, 800)\n",
            "loading nuscenes...\n",
            "making parser...\n",
            "indices (323, 1)\n",
            "NuscData: 323 samples. Split: train.\n",
            "                   Augmentation Conf: {'final_dim': (448, 800), 'cams': ['CAM_FRONT_LEFT', 'CAM_FRONT', 'CAM_FRONT_RIGHT', 'CAM_BACK_LEFT', 'CAM_BACK', 'CAM_BACK_RIGHT'], 'ncams': 6}\n",
            "indices (81, 1)\n",
            "NuscData: 81 samples. Split: val.\n",
            "                   Augmentation Conf: {'final_dim': (448, 800), 'cams': ['CAM_FRONT_LEFT', 'CAM_FRONT', 'CAM_FRONT_RIGHT', 'CAM_BACK_LEFT', 'CAM_BACK', 'CAM_BACK_RIGHT'], 'ncams': 6}\n",
            "/usr/local/lib/python3.11/dist-packages/torch/utils/data/dataloader.py:617: UserWarning: This DataLoader will create 12 worker processes in total. Our suggested max number of worker in current system is 2, which is smaller than what this DataLoader is going to create. Please be aware that excessive worker creation might get DataLoader running slow or even freeze, lower the worker number to avoid potential slowness/freeze if necessary.\n",
            "  warnings.warn(\n",
            "data ready\n",
            "/usr/local/lib/python3.11/dist-packages/torchvision/models/_utils.py:208: UserWarning: The parameter 'pretrained' is deprecated since 0.13 and may be removed in the future, please use 'weights' instead.\n",
            "  warnings.warn(\n",
            "/usr/local/lib/python3.11/dist-packages/torchvision/models/_utils.py:223: UserWarning: Arguments other than a weight enum or `None` for 'weights' are deprecated since 0.13 and may be removed in the future. The current behavior is equivalent to passing `weights=ResNet101_Weights.IMAGENET1K_V1`. You can also use `weights=ResNet101_Weights.DEFAULT` to get the most up-to-date weights.\n",
            "  warnings.warn(msg)\n",
            "/usr/local/lib/python3.11/dist-packages/torchvision/models/_utils.py:223: UserWarning: Arguments other than a weight enum or `None` for 'weights' are deprecated since 0.13 and may be removed in the future. The current behavior is equivalent to passing `weights=None`.\n",
            "  warnings.warn(msg)\n",
            "total_params 42196167\n",
            "reading ckpt from /content/simple_bev/checkpoints/8x5_5e-4_rad25_18:55:34\n",
            "...found checkpoint /content/simple_bev/checkpoints/8x5_5e-4_rad25_18:55:34/model-000025000.pth\n",
            "/content/simple_bev/saverloader.py:62: FutureWarning: You are using `torch.load` with `weights_only=False` (the current default value), which uses the default pickle module implicitly. It is possible to construct malicious pickle data which will execute arbitrary code during unpickling (See https://github.com/pytorch/pytorch/blob/main/SECURITY.md#untrusted-models for more details). In a future release, the default value for `weights_only` will be flipped to `True`. This limits the functions that could be executed during unpickling. Arbitrary objects will no longer be allowed to be loaded via this mode unless they are explicitly allowlisted by the user via `torch.serialization.add_safe_globals`. We recommend you start setting `weights_only=True` for any use case where you don't have full control of the loaded file. Please open an issue on GitHub for any issues related to this experimental feature.\n",
            "  checkpoint = torch.load(path, map_location=device)\n",
            "8x5_5e-4_rad25_18:55:34_1_eval_06:18:47; step 000001/81; rtime 0.00; itime 1.06 (1058.97 ms); loss 0.71979; iou_ev 62.8\n",
            "8x5_5e-4_rad25_18:55:34_1_eval_06:18:47; step 000002/81; rtime 0.01; itime 0.43 (744.28 ms); loss 2.10723; iou_ev 61.1\n",
            "8x5_5e-4_rad25_18:55:34_1_eval_06:18:47; step 000003/81; rtime 0.01; itime 0.46 (651.11 ms); loss 2.48701; iou_ev 61.4\n",
            "8x5_5e-4_rad25_18:55:34_1_eval_06:18:47; step 000004/81; rtime 0.01; itime 0.42 (593.22 ms); loss 3.42402; iou_ev 62.0\n",
            "8x5_5e-4_rad25_18:55:34_1_eval_06:18:47; step 000005/81; rtime 0.03; itime 0.47 (569.11 ms); loss 3.45296; iou_ev 63.0\n",
            "8x5_5e-4_rad25_18:55:34_1_eval_06:18:47; step 000006/81; rtime 0.03; itime 0.47 (552.19 ms); loss 5.33240; iou_ev 62.5\n",
            "8x5_5e-4_rad25_18:55:34_1_eval_06:18:47; step 000007/81; rtime 0.03; itime 0.45 (537.40 ms); loss 4.84213; iou_ev 61.3\n",
            "8x5_5e-4_rad25_18:55:34_1_eval_06:18:47; step 000008/81; rtime 0.01; itime 0.43 (523.58 ms); loss 3.53004; iou_ev 61.0\n",
            "8x5_5e-4_rad25_18:55:34_1_eval_06:18:47; step 000009/81; rtime 0.04; itime 0.47 (517.69 ms); loss 2.93707; iou_ev 60.1\n",
            "8x5_5e-4_rad25_18:55:34_1_eval_06:18:47; step 000010/81; rtime 0.03; itime 0.46 (512.25 ms); loss 1.81340; iou_ev 59.8\n",
            "8x5_5e-4_rad25_18:55:34_1_eval_06:18:47; step 000011/81; rtime 0.03; itime 0.49 (509.87 ms); loss 2.51282; iou_ev 58.9\n",
            "8x5_5e-4_rad25_18:55:34_1_eval_06:18:47; step 000012/81; rtime 0.03; itime 0.48 (507.42 ms); loss 1.75047; iou_ev 58.2\n",
            "8x5_5e-4_rad25_18:55:34_1_eval_06:18:47; step 000013/81; rtime 0.09; itime 0.53 (509.28 ms); loss 0.97224; iou_ev 58.4\n",
            "8x5_5e-4_rad25_18:55:34_1_eval_06:18:47; step 000014/81; rtime 0.04; itime 0.50 (508.53 ms); loss 1.43313; iou_ev 58.3\n",
            "8x5_5e-4_rad25_18:55:34_1_eval_06:18:47; step 000015/81; rtime 0.08; itime 0.59 (514.16 ms); loss 2.22645; iou_ev 58.2\n",
            "8x5_5e-4_rad25_18:55:34_1_eval_06:18:47; step 000016/81; rtime 0.03; itime 0.49 (512.77 ms); loss 2.32269; iou_ev 57.7\n",
            "8x5_5e-4_rad25_18:55:34_1_eval_06:18:47; step 000017/81; rtime 0.07; itime 0.60 (518.11 ms); loss 1.98266; iou_ev 57.4\n",
            "8x5_5e-4_rad25_18:55:34_1_eval_06:18:47; step 000018/81; rtime 0.03; itime 0.52 (518.05 ms); loss 3.22442; iou_ev 57.2\n",
            "8x5_5e-4_rad25_18:55:34_1_eval_06:18:47; step 000019/81; rtime 0.03; itime 0.53 (518.61 ms); loss 3.96245; iou_ev 56.9\n",
            "8x5_5e-4_rad25_18:55:34_1_eval_06:18:47; step 000020/81; rtime 0.05; itime 0.50 (517.80 ms); loss 3.42187; iou_ev 56.8\n",
            "8x5_5e-4_rad25_18:55:34_1_eval_06:18:47; step 000021/81; rtime 0.02; itime 0.47 (515.64 ms); loss 4.27290; iou_ev 56.9\n",
            "8x5_5e-4_rad25_18:55:34_1_eval_06:18:47; step 000022/81; rtime 0.01; itime 0.44 (512.01 ms); loss 1.95910; iou_ev 57.1\n",
            "8x5_5e-4_rad25_18:55:34_1_eval_06:18:47; step 000023/81; rtime 0.01; itime 0.42 (508.15 ms); loss 1.82281; iou_ev 57.4\n",
            "8x5_5e-4_rad25_18:55:34_1_eval_06:18:47; step 000024/81; rtime 0.01; itime 0.42 (504.64 ms); loss 2.86079; iou_ev 57.0\n",
            "8x5_5e-4_rad25_18:55:34_1_eval_06:18:47; step 000025/81; rtime 0.01; itime 0.44 (501.96 ms); loss 3.13958; iou_ev 57.0\n",
            "8x5_5e-4_rad25_18:55:34_1_eval_06:18:47; step 000026/81; rtime 0.01; itime 0.43 (499.13 ms); loss 2.21563; iou_ev 56.8\n",
            "8x5_5e-4_rad25_18:55:34_1_eval_06:18:47; step 000027/81; rtime 0.01; itime 0.42 (496.19 ms); loss 2.69057; iou_ev 56.5\n",
            "8x5_5e-4_rad25_18:55:34_1_eval_06:18:47; step 000028/81; rtime 0.01; itime 0.43 (493.88 ms); loss 5.12379; iou_ev 56.1\n",
            "8x5_5e-4_rad25_18:55:34_1_eval_06:18:47; step 000029/81; rtime 0.01; itime 0.43 (491.51 ms); loss 4.60905; iou_ev 55.8\n",
            "8x5_5e-4_rad25_18:55:34_1_eval_06:18:47; step 000030/81; rtime 0.01; itime 0.43 (489.48 ms); loss 4.93626; iou_ev 55.7\n",
            "8x5_5e-4_rad25_18:55:34_1_eval_06:18:47; step 000031/81; rtime 0.01; itime 0.42 (487.37 ms); loss 4.68686; iou_ev 55.8\n",
            "8x5_5e-4_rad25_18:55:34_1_eval_06:18:47; step 000032/81; rtime 0.01; itime 0.42 (485.34 ms); loss 4.76390; iou_ev 55.6\n",
            "8x5_5e-4_rad25_18:55:34_1_eval_06:18:47; step 000033/81; rtime 0.01; itime 0.43 (483.55 ms); loss 4.68312; iou_ev 55.7\n",
            "8x5_5e-4_rad25_18:55:34_1_eval_06:18:47; step 000034/81; rtime 0.01; itime 0.43 (481.94 ms); loss 2.14782; iou_ev 55.7\n",
            "8x5_5e-4_rad25_18:55:34_1_eval_06:18:47; step 000035/81; rtime 0.01; itime 0.43 (480.45 ms); loss 1.76570; iou_ev 55.6\n",
            "8x5_5e-4_rad25_18:55:34_1_eval_06:18:47; step 000036/81; rtime 0.01; itime 0.43 (478.95 ms); loss 2.54162; iou_ev 55.5\n",
            "8x5_5e-4_rad25_18:55:34_1_eval_06:18:47; step 000037/81; rtime 0.01; itime 0.44 (477.76 ms); loss 1.96780; iou_ev 55.6\n",
            "8x5_5e-4_rad25_18:55:34_1_eval_06:18:47; step 000038/81; rtime 0.01; itime 0.43 (476.47 ms); loss 2.98115; iou_ev 55.4\n",
            "8x5_5e-4_rad25_18:55:34_1_eval_06:18:47; step 000039/81; rtime 0.01; itime 0.43 (475.27 ms); loss 2.26212; iou_ev 55.4\n",
            "8x5_5e-4_rad25_18:55:34_1_eval_06:18:47; step 000040/81; rtime 0.01; itime 0.43 (474.11 ms); loss 3.19870; iou_ev 55.3\n",
            "8x5_5e-4_rad25_18:55:34_1_eval_06:18:47; step 000041/81; rtime 0.01; itime 0.44 (473.23 ms); loss 2.94518; iou_ev 55.2\n",
            "8x5_5e-4_rad25_18:55:34_1_eval_06:18:47; step 000042/81; rtime 0.02; itime 0.45 (472.57 ms); loss -1.23203; iou_ev 55.2\n",
            "8x5_5e-4_rad25_18:55:34_1_eval_06:18:47; step 000043/81; rtime 0.01; itime 0.43 (471.61 ms); loss -0.41234; iou_ev 55.2\n",
            "8x5_5e-4_rad25_18:55:34_1_eval_06:18:47; step 000044/81; rtime 0.01; itime 0.43 (470.76 ms); loss -0.75311; iou_ev 55.3\n",
            "8x5_5e-4_rad25_18:55:34_1_eval_06:18:47; step 000045/81; rtime 0.03; itime 0.47 (470.80 ms); loss -1.11896; iou_ev 55.3\n",
            "8x5_5e-4_rad25_18:55:34_1_eval_06:18:47; step 000046/81; rtime 0.03; itime 0.48 (471.04 ms); loss 0.79001; iou_ev 55.3\n",
            "8x5_5e-4_rad25_18:55:34_1_eval_06:18:47; step 000047/81; rtime 0.08; itime 0.58 (473.28 ms); loss -0.96448; iou_ev 55.4\n",
            "8x5_5e-4_rad25_18:55:34_1_eval_06:18:47; step 000048/81; rtime 0.04; itime 0.51 (474.03 ms); loss -1.20484; iou_ev 55.4\n",
            "8x5_5e-4_rad25_18:55:34_1_eval_06:18:47; step 000049/81; rtime 0.05; itime 0.55 (475.49 ms); loss -0.07810; iou_ev 55.5\n",
            "8x5_5e-4_rad25_18:55:34_1_eval_06:18:47; step 000050/81; rtime 0.06; itime 0.54 (476.85 ms); loss -0.23125; iou_ev 55.6\n",
            "8x5_5e-4_rad25_18:55:34_1_eval_06:18:47; step 000051/81; rtime 0.04; itime 0.52 (477.61 ms); loss -0.92329; iou_ev 55.7\n",
            "8x5_5e-4_rad25_18:55:34_1_eval_06:18:47; step 000052/81; rtime 0.07; itime 0.55 (479.00 ms); loss -1.15746; iou_ev 55.8\n",
            "8x5_5e-4_rad25_18:55:34_1_eval_06:18:47; step 000053/81; rtime 0.06; itime 0.54 (480.21 ms); loss -0.17607; iou_ev 55.8\n",
            "8x5_5e-4_rad25_18:55:34_1_eval_06:18:47; step 000054/81; rtime 0.03; itime 0.48 (480.16 ms); loss -0.35572; iou_ev 55.9\n",
            "8x5_5e-4_rad25_18:55:34_1_eval_06:18:47; step 000055/81; rtime 0.04; itime 0.46 (479.71 ms); loss 0.38624; iou_ev 56.0\n",
            "8x5_5e-4_rad25_18:55:34_1_eval_06:18:47; step 000056/81; rtime 0.03; itime 0.46 (479.44 ms); loss 0.13775; iou_ev 56.0\n",
            "8x5_5e-4_rad25_18:55:34_1_eval_06:18:47; step 000057/81; rtime 0.01; itime 0.44 (478.74 ms); loss 0.77951; iou_ev 56.0\n",
            "8x5_5e-4_rad25_18:55:34_1_eval_06:18:47; step 000058/81; rtime 0.01; itime 0.43 (477.85 ms); loss 0.49129; iou_ev 56.0\n",
            "8x5_5e-4_rad25_18:55:34_1_eval_06:18:47; step 000059/81; rtime 0.01; itime 0.43 (476.97 ms); loss 1.73248; iou_ev 56.0\n",
            "8x5_5e-4_rad25_18:55:34_1_eval_06:18:47; step 000060/81; rtime 0.01; itime 0.42 (475.97 ms); loss 0.75143; iou_ev 56.1\n",
            "8x5_5e-4_rad25_18:55:34_1_eval_06:18:47; step 000061/81; rtime 0.01; itime 0.42 (475.06 ms); loss 1.68368; iou_ev 56.2\n",
            "8x5_5e-4_rad25_18:55:34_1_eval_06:18:47; step 000062/81; rtime 0.01; itime 0.43 (474.26 ms); loss 2.15206; iou_ev 56.1\n",
            "8x5_5e-4_rad25_18:55:34_1_eval_06:18:47; step 000063/81; rtime 0.03; itime 0.48 (474.32 ms); loss 2.33688; iou_ev 56.2\n",
            "8x5_5e-4_rad25_18:55:34_1_eval_06:18:47; step 000064/81; rtime 0.01; itime 0.43 (473.66 ms); loss 1.19391; iou_ev 56.2\n",
            "8x5_5e-4_rad25_18:55:34_1_eval_06:18:47; step 000065/81; rtime 0.01; itime 0.43 (472.91 ms); loss 1.90044; iou_ev 56.3\n",
            "8x5_5e-4_rad25_18:55:34_1_eval_06:18:47; step 000066/81; rtime 0.01; itime 0.42 (472.15 ms); loss 1.35696; iou_ev 56.4\n",
            "8x5_5e-4_rad25_18:55:34_1_eval_06:18:47; step 000067/81; rtime 0.01; itime 0.42 (471.44 ms); loss 1.50005; iou_ev 56.5\n",
            "8x5_5e-4_rad25_18:55:34_1_eval_06:18:47; step 000068/81; rtime 0.01; itime 0.43 (470.80 ms); loss 1.53225; iou_ev 56.4\n",
            "8x5_5e-4_rad25_18:55:34_1_eval_06:18:47; step 000069/81; rtime 0.01; itime 0.42 (470.12 ms); loss 1.03094; iou_ev 56.4\n",
            "8x5_5e-4_rad25_18:55:34_1_eval_06:18:47; step 000070/81; rtime 0.01; itime 0.42 (469.40 ms); loss 1.04826; iou_ev 56.4\n",
            "8x5_5e-4_rad25_18:55:34_1_eval_06:18:47; step 000071/81; rtime 0.01; itime 0.43 (468.80 ms); loss 0.61228; iou_ev 56.5\n",
            "8x5_5e-4_rad25_18:55:34_1_eval_06:18:47; step 000072/81; rtime 0.01; itime 0.43 (468.26 ms); loss 1.14685; iou_ev 56.5\n",
            "8x5_5e-4_rad25_18:55:34_1_eval_06:18:47; step 000073/81; rtime 0.01; itime 0.42 (467.66 ms); loss 0.69228; iou_ev 56.6\n",
            "8x5_5e-4_rad25_18:55:34_1_eval_06:18:47; step 000074/81; rtime 0.01; itime 0.42 (467.04 ms); loss 0.76994; iou_ev 56.7\n",
            "8x5_5e-4_rad25_18:55:34_1_eval_06:18:47; step 000075/81; rtime 0.01; itime 0.43 (466.49 ms); loss 0.29312; iou_ev 56.8\n",
            "8x5_5e-4_rad25_18:55:34_1_eval_06:18:47; step 000076/81; rtime 0.01; itime 0.43 (466.03 ms); loss 0.49912; iou_ev 56.9\n",
            "8x5_5e-4_rad25_18:55:34_1_eval_06:18:47; step 000077/81; rtime 0.01; itime 0.45 (465.78 ms); loss 0.80981; iou_ev 57.0\n",
            "8x5_5e-4_rad25_18:55:34_1_eval_06:18:47; step 000078/81; rtime 0.01; itime 0.45 (465.52 ms); loss 0.55996; iou_ev 57.0\n",
            "8x5_5e-4_rad25_18:55:34_1_eval_06:18:47; step 000079/81; rtime 0.01; itime 0.43 (465.12 ms); loss 0.33338; iou_ev 57.0\n",
            "8x5_5e-4_rad25_18:55:34_1_eval_06:18:47; step 000080/81; rtime 0.01; itime 0.43 (464.69 ms); loss 0.67832; iou_ev 57.1\n",
            "8x5_5e-4_rad25_18:55:34_1_eval_06:18:47; step 000081/81; rtime 0.01; itime 0.44 (464.33 ms); loss 1.05691; iou_ev 57.1\n",
            "final  mean iou 57.120884073163325\n"
          ]
        }
      ]
    },
    {
      "cell_type": "code",
      "source": [
        "# model_name 8x5_5e-4_rad25_18:55:34_1_eval_06:18:47\n",
        "# resolution: (448, 800)\n",
        "# loading nuscenes...\n",
        "# making parser...\n",
        "# indices (323, 1)\n",
        "# NuscData: 323 samples. Split: train.\n",
        "#                    Augmentation Conf: {'final_dim': (448, 800), 'cams': ['CAM_FRONT_LEFT', 'CAM_FRONT', 'CAM_FRONT_RIGHT', 'CAM_BACK_LEFT', 'CAM_BACK', 'CAM_BACK_RIGHT'], 'ncams': 6}\n",
        "# indices (81, 1)\n",
        "# NuscData: 81 samples. Split: val.\n",
        "#                    Augmentation Conf: {'final_dim': (448, 800), 'cams': ['CAM_FRONT_LEFT', 'CAM_FRONT', 'CAM_FRONT_RIGHT', 'CAM_BACK_LEFT', 'CAM_BACK', 'CAM_BACK_RIGHT'], 'ncams': 6}\n",
        "# /usr/local/lib/python3.11/dist-packages/torch/utils/data/dataloader.py:617: UserWarning: This DataLoader will create 12 worker processes in total. Our suggested max number of worker in current system is 2, which is smaller than what this DataLoader is going to create. Please be aware that excessive worker creation might get DataLoader running slow or even freeze, lower the worker number to avoid potential slowness/freeze if necessary.\n",
        "#   warnings.warn(\n",
        "# data ready\n",
        "# /usr/local/lib/python3.11/dist-packages/torchvision/models/_utils.py:208: UserWarning: The parameter 'pretrained' is deprecated since 0.13 and may be removed in the future, please use 'weights' instead.\n",
        "#   warnings.warn(\n",
        "# /usr/local/lib/python3.11/dist-packages/torchvision/models/_utils.py:223: UserWarning: Arguments other than a weight enum or `None` for 'weights' are deprecated since 0.13 and may be removed in the future. The current behavior is equivalent to passing `weights=ResNet101_Weights.IMAGENET1K_V1`. You can also use `weights=ResNet101_Weights.DEFAULT` to get the most up-to-date weights.\n",
        "#   warnings.warn(msg)\n",
        "# /usr/local/lib/python3.11/dist-packages/torchvision/models/_utils.py:223: UserWarning: Arguments other than a weight enum or `None` for 'weights' are deprecated since 0.13 and may be removed in the future. The current behavior is equivalent to passing `weights=None`.\n",
        "#   warnings.warn(msg)\n",
        "# total_params 42196167\n",
        "# reading ckpt from /content/simple_bev/checkpoints/8x5_5e-4_rad25_18:55:34\n",
        "# ...found checkpoint /content/simple_bev/checkpoints/8x5_5e-4_rad25_18:55:34/model-000025000.pth\n",
        "# /content/simple_bev/saverloader.py:62: FutureWarning: You are using `torch.load` with `weights_only=False` (the current default value), which uses the default pickle module implicitly. It is possible to construct malicious pickle data which will execute arbitrary code during unpickling (See https://github.com/pytorch/pytorch/blob/main/SECURITY.md#untrusted-models for more details). In a future release, the default value for `weights_only` will be flipped to `True`. This limits the functions that could be executed during unpickling. Arbitrary objects will no longer be allowed to be loaded via this mode unless they are explicitly allowlisted by the user via `torch.serialization.add_safe_globals`. We recommend you start setting `weights_only=True` for any use case where you don't have full control of the loaded file. Please open an issue on GitHub for any issues related to this experimental feature.\n",
        "#   checkpoint = torch.load(path, map_location=device)\n",
        "# 8x5_5e-4_rad25_18:55:34_1_eval_06:18:47; step 000001/81; rtime 0.00; itime 1.06 (1058.97 ms); loss 0.71979; iou_ev 62.8\n",
        "# 8x5_5e-4_rad25_18:55:34_1_eval_06:18:47; step 000002/81; rtime 0.01; itime 0.43 (744.28 ms); loss 2.10723; iou_ev 61.1\n",
        "# 8x5_5e-4_rad25_18:55:34_1_eval_06:18:47; step 000003/81; rtime 0.01; itime 0.46 (651.11 ms); loss 2.48701; iou_ev 61.4\n",
        "# 8x5_5e-4_rad25_18:55:34_1_eval_06:18:47; step 000004/81; rtime 0.01; itime 0.42 (593.22 ms); loss 3.42402; iou_ev 62.0\n",
        "# 8x5_5e-4_rad25_18:55:34_1_eval_06:18:47; step 000005/81; rtime 0.03; itime 0.47 (569.11 ms); loss 3.45296; iou_ev 63.0\n",
        "# 8x5_5e-4_rad25_18:55:34_1_eval_06:18:47; step 000006/81; rtime 0.03; itime 0.47 (552.19 ms); loss 5.33240; iou_ev 62.5\n",
        "# 8x5_5e-4_rad25_18:55:34_1_eval_06:18:47; step 000007/81; rtime 0.03; itime 0.45 (537.40 ms); loss 4.84213; iou_ev 61.3\n",
        "# 8x5_5e-4_rad25_18:55:34_1_eval_06:18:47; step 000008/81; rtime 0.01; itime 0.43 (523.58 ms); loss 3.53004; iou_ev 61.0\n",
        "# 8x5_5e-4_rad25_18:55:34_1_eval_06:18:47; step 000009/81; rtime 0.04; itime 0.47 (517.69 ms); loss 2.93707; iou_ev 60.1\n",
        "# 8x5_5e-4_rad25_18:55:34_1_eval_06:18:47; step 000010/81; rtime 0.03; itime 0.46 (512.25 ms); loss 1.81340; iou_ev 59.8\n",
        "# 8x5_5e-4_rad25_18:55:34_1_eval_06:18:47; step 000011/81; rtime 0.03; itime 0.49 (509.87 ms); loss 2.51282; iou_ev 58.9\n",
        "# 8x5_5e-4_rad25_18:55:34_1_eval_06:18:47; step 000012/81; rtime 0.03; itime 0.48 (507.42 ms); loss 1.75047; iou_ev 58.2\n",
        "# 8x5_5e-4_rad25_18:55:34_1_eval_06:18:47; step 000013/81; rtime 0.09; itime 0.53 (509.28 ms); loss 0.97224; iou_ev 58.4\n",
        "# 8x5_5e-4_rad25_18:55:34_1_eval_06:18:47; step 000014/81; rtime 0.04; itime 0.50 (508.53 ms); loss 1.43313; iou_ev 58.3\n",
        "# 8x5_5e-4_rad25_18:55:34_1_eval_06:18:47; step 000015/81; rtime 0.08; itime 0.59 (514.16 ms); loss 2.22645; iou_ev 58.2\n",
        "# 8x5_5e-4_rad25_18:55:34_1_eval_06:18:47; step 000016/81; rtime 0.03; itime 0.49 (512.77 ms); loss 2.32269; iou_ev 57.7\n",
        "# 8x5_5e-4_rad25_18:55:34_1_eval_06:18:47; step 000017/81; rtime 0.07; itime 0.60 (518.11 ms); loss 1.98266; iou_ev 57.4\n",
        "# 8x5_5e-4_rad25_18:55:34_1_eval_06:18:47; step 000018/81; rtime 0.03; itime 0.52 (518.05 ms); loss 3.22442; iou_ev 57.2\n",
        "# 8x5_5e-4_rad25_18:55:34_1_eval_06:18:47; step 000019/81; rtime 0.03; itime 0.53 (518.61 ms); loss 3.96245; iou_ev 56.9\n",
        "# 8x5_5e-4_rad25_18:55:34_1_eval_06:18:47; step 000020/81; rtime 0.05; itime 0.50 (517.80 ms); loss 3.42187; iou_ev 56.8\n",
        "# 8x5_5e-4_rad25_18:55:34_1_eval_06:18:47; step 000021/81; rtime 0.02; itime 0.47 (515.64 ms); loss 4.27290; iou_ev 56.9\n",
        "# 8x5_5e-4_rad25_18:55:34_1_eval_06:18:47; step 000022/81; rtime 0.01; itime 0.44 (512.01 ms); loss 1.95910; iou_ev 57.1\n",
        "# 8x5_5e-4_rad25_18:55:34_1_eval_06:18:47; step 000023/81; rtime 0.01; itime 0.42 (508.15 ms); loss 1.82281; iou_ev 57.4\n",
        "# 8x5_5e-4_rad25_18:55:34_1_eval_06:18:47; step 000024/81; rtime 0.01; itime 0.42 (504.64 ms); loss 2.86079; iou_ev 57.0\n",
        "# 8x5_5e-4_rad25_18:55:34_1_eval_06:18:47; step 000025/81; rtime 0.01; itime 0.44 (501.96 ms); loss 3.13958; iou_ev 57.0\n",
        "# 8x5_5e-4_rad25_18:55:34_1_eval_06:18:47; step 000026/81; rtime 0.01; itime 0.43 (499.13 ms); loss 2.21563; iou_ev 56.8\n",
        "# 8x5_5e-4_rad25_18:55:34_1_eval_06:18:47; step 000027/81; rtime 0.01; itime 0.42 (496.19 ms); loss 2.69057; iou_ev 56.5\n",
        "# 8x5_5e-4_rad25_18:55:34_1_eval_06:18:47; step 000028/81; rtime 0.01; itime 0.43 (493.88 ms); loss 5.12379; iou_ev 56.1\n",
        "# 8x5_5e-4_rad25_18:55:34_1_eval_06:18:47; step 000029/81; rtime 0.01; itime 0.43 (491.51 ms); loss 4.60905; iou_ev 55.8\n",
        "# 8x5_5e-4_rad25_18:55:34_1_eval_06:18:47; step 000030/81; rtime 0.01; itime 0.43 (489.48 ms); loss 4.93626; iou_ev 55.7\n",
        "# 8x5_5e-4_rad25_18:55:34_1_eval_06:18:47; step 000031/81; rtime 0.01; itime 0.42 (487.37 ms); loss 4.68686; iou_ev 55.8\n",
        "# 8x5_5e-4_rad25_18:55:34_1_eval_06:18:47; step 000032/81; rtime 0.01; itime 0.42 (485.34 ms); loss 4.76390; iou_ev 55.6\n",
        "# 8x5_5e-4_rad25_18:55:34_1_eval_06:18:47; step 000033/81; rtime 0.01; itime 0.43 (483.55 ms); loss 4.68312; iou_ev 55.7\n",
        "# 8x5_5e-4_rad25_18:55:34_1_eval_06:18:47; step 000034/81; rtime 0.01; itime 0.43 (481.94 ms); loss 2.14782; iou_ev 55.7\n",
        "# 8x5_5e-4_rad25_18:55:34_1_eval_06:18:47; step 000035/81; rtime 0.01; itime 0.43 (480.45 ms); loss 1.76570; iou_ev 55.6\n",
        "# 8x5_5e-4_rad25_18:55:34_1_eval_06:18:47; step 000036/81; rtime 0.01; itime 0.43 (478.95 ms); loss 2.54162; iou_ev 55.5\n",
        "# 8x5_5e-4_rad25_18:55:34_1_eval_06:18:47; step 000037/81; rtime 0.01; itime 0.44 (477.76 ms); loss 1.96780; iou_ev 55.6\n",
        "# 8x5_5e-4_rad25_18:55:34_1_eval_06:18:47; step 000038/81; rtime 0.01; itime 0.43 (476.47 ms); loss 2.98115; iou_ev 55.4\n",
        "# 8x5_5e-4_rad25_18:55:34_1_eval_06:18:47; step 000039/81; rtime 0.01; itime 0.43 (475.27 ms); loss 2.26212; iou_ev 55.4\n",
        "# 8x5_5e-4_rad25_18:55:34_1_eval_06:18:47; step 000040/81; rtime 0.01; itime 0.43 (474.11 ms); loss 3.19870; iou_ev 55.3\n",
        "# 8x5_5e-4_rad25_18:55:34_1_eval_06:18:47; step 000041/81; rtime 0.01; itime 0.44 (473.23 ms); loss 2.94518; iou_ev 55.2\n",
        "# 8x5_5e-4_rad25_18:55:34_1_eval_06:18:47; step 000042/81; rtime 0.02; itime 0.45 (472.57 ms); loss -1.23203; iou_ev 55.2\n",
        "# 8x5_5e-4_rad25_18:55:34_1_eval_06:18:47; step 000043/81; rtime 0.01; itime 0.43 (471.61 ms); loss -0.41234; iou_ev 55.2\n",
        "# 8x5_5e-4_rad25_18:55:34_1_eval_06:18:47; step 000044/81; rtime 0.01; itime 0.43 (470.76 ms); loss -0.75311; iou_ev 55.3\n",
        "# 8x5_5e-4_rad25_18:55:34_1_eval_06:18:47; step 000045/81; rtime 0.03; itime 0.47 (470.80 ms); loss -1.11896; iou_ev 55.3\n",
        "# 8x5_5e-4_rad25_18:55:34_1_eval_06:18:47; step 000046/81; rtime 0.03; itime 0.48 (471.04 ms); loss 0.79001; iou_ev 55.3\n",
        "# 8x5_5e-4_rad25_18:55:34_1_eval_06:18:47; step 000047/81; rtime 0.08; itime 0.58 (473.28 ms); loss -0.96448; iou_ev 55.4\n",
        "# 8x5_5e-4_rad25_18:55:34_1_eval_06:18:47; step 000048/81; rtime 0.04; itime 0.51 (474.03 ms); loss -1.20484; iou_ev 55.4\n",
        "# 8x5_5e-4_rad25_18:55:34_1_eval_06:18:47; step 000049/81; rtime 0.05; itime 0.55 (475.49 ms); loss -0.07810; iou_ev 55.5\n",
        "# 8x5_5e-4_rad25_18:55:34_1_eval_06:18:47; step 000050/81; rtime 0.06; itime 0.54 (476.85 ms); loss -0.23125; iou_ev 55.6\n",
        "# 8x5_5e-4_rad25_18:55:34_1_eval_06:18:47; step 000051/81; rtime 0.04; itime 0.52 (477.61 ms); loss -0.92329; iou_ev 55.7\n",
        "# 8x5_5e-4_rad25_18:55:34_1_eval_06:18:47; step 000052/81; rtime 0.07; itime 0.55 (479.00 ms); loss -1.15746; iou_ev 55.8\n",
        "# 8x5_5e-4_rad25_18:55:34_1_eval_06:18:47; step 000053/81; rtime 0.06; itime 0.54 (480.21 ms); loss -0.17607; iou_ev 55.8\n",
        "# 8x5_5e-4_rad25_18:55:34_1_eval_06:18:47; step 000054/81; rtime 0.03; itime 0.48 (480.16 ms); loss -0.35572; iou_ev 55.9\n",
        "# 8x5_5e-4_rad25_18:55:34_1_eval_06:18:47; step 000055/81; rtime 0.04; itime 0.46 (479.71 ms); loss 0.38624; iou_ev 56.0\n",
        "# 8x5_5e-4_rad25_18:55:34_1_eval_06:18:47; step 000056/81; rtime 0.03; itime 0.46 (479.44 ms); loss 0.13775; iou_ev 56.0\n",
        "# 8x5_5e-4_rad25_18:55:34_1_eval_06:18:47; step 000057/81; rtime 0.01; itime 0.44 (478.74 ms); loss 0.77951; iou_ev 56.0\n",
        "# 8x5_5e-4_rad25_18:55:34_1_eval_06:18:47; step 000058/81; rtime 0.01; itime 0.43 (477.85 ms); loss 0.49129; iou_ev 56.0\n",
        "# 8x5_5e-4_rad25_18:55:34_1_eval_06:18:47; step 000059/81; rtime 0.01; itime 0.43 (476.97 ms); loss 1.73248; iou_ev 56.0\n",
        "# 8x5_5e-4_rad25_18:55:34_1_eval_06:18:47; step 000060/81; rtime 0.01; itime 0.42 (475.97 ms); loss 0.75143; iou_ev 56.1\n",
        "# 8x5_5e-4_rad25_18:55:34_1_eval_06:18:47; step 000061/81; rtime 0.01; itime 0.42 (475.06 ms); loss 1.68368; iou_ev 56.2\n",
        "# 8x5_5e-4_rad25_18:55:34_1_eval_06:18:47; step 000062/81; rtime 0.01; itime 0.43 (474.26 ms); loss 2.15206; iou_ev 56.1\n",
        "# 8x5_5e-4_rad25_18:55:34_1_eval_06:18:47; step 000063/81; rtime 0.03; itime 0.48 (474.32 ms); loss 2.33688; iou_ev 56.2\n",
        "# 8x5_5e-4_rad25_18:55:34_1_eval_06:18:47; step 000064/81; rtime 0.01; itime 0.43 (473.66 ms); loss 1.19391; iou_ev 56.2\n",
        "# 8x5_5e-4_rad25_18:55:34_1_eval_06:18:47; step 000065/81; rtime 0.01; itime 0.43 (472.91 ms); loss 1.90044; iou_ev 56.3\n",
        "# 8x5_5e-4_rad25_18:55:34_1_eval_06:18:47; step 000066/81; rtime 0.01; itime 0.42 (472.15 ms); loss 1.35696; iou_ev 56.4\n",
        "# 8x5_5e-4_rad25_18:55:34_1_eval_06:18:47; step 000067/81; rtime 0.01; itime 0.42 (471.44 ms); loss 1.50005; iou_ev 56.5\n",
        "# 8x5_5e-4_rad25_18:55:34_1_eval_06:18:47; step 000068/81; rtime 0.01; itime 0.43 (470.80 ms); loss 1.53225; iou_ev 56.4\n",
        "# 8x5_5e-4_rad25_18:55:34_1_eval_06:18:47; step 000069/81; rtime 0.01; itime 0.42 (470.12 ms); loss 1.03094; iou_ev 56.4\n",
        "# 8x5_5e-4_rad25_18:55:34_1_eval_06:18:47; step 000070/81; rtime 0.01; itime 0.42 (469.40 ms); loss 1.04826; iou_ev 56.4\n",
        "# 8x5_5e-4_rad25_18:55:34_1_eval_06:18:47; step 000071/81; rtime 0.01; itime 0.43 (468.80 ms); loss 0.61228; iou_ev 56.5\n",
        "# 8x5_5e-4_rad25_18:55:34_1_eval_06:18:47; step 000072/81; rtime 0.01; itime 0.43 (468.26 ms); loss 1.14685; iou_ev 56.5\n",
        "# 8x5_5e-4_rad25_18:55:34_1_eval_06:18:47; step 000073/81; rtime 0.01; itime 0.42 (467.66 ms); loss 0.69228; iou_ev 56.6\n",
        "# 8x5_5e-4_rad25_18:55:34_1_eval_06:18:47; step 000074/81; rtime 0.01; itime 0.42 (467.04 ms); loss 0.76994; iou_ev 56.7\n",
        "# 8x5_5e-4_rad25_18:55:34_1_eval_06:18:47; step 000075/81; rtime 0.01; itime 0.43 (466.49 ms); loss 0.29312; iou_ev 56.8\n",
        "# 8x5_5e-4_rad25_18:55:34_1_eval_06:18:47; step 000076/81; rtime 0.01; itime 0.43 (466.03 ms); loss 0.49912; iou_ev 56.9\n",
        "# 8x5_5e-4_rad25_18:55:34_1_eval_06:18:47; step 000077/81; rtime 0.01; itime 0.45 (465.78 ms); loss 0.80981; iou_ev 57.0\n",
        "# 8x5_5e-4_rad25_18:55:34_1_eval_06:18:47; step 000078/81; rtime 0.01; itime 0.45 (465.52 ms); loss 0.55996; iou_ev 57.0\n",
        "# 8x5_5e-4_rad25_18:55:34_1_eval_06:18:47; step 000079/81; rtime 0.01; itime 0.43 (465.12 ms); loss 0.33338; iou_ev 57.0\n",
        "# 8x5_5e-4_rad25_18:55:34_1_eval_06:18:47; step 000080/81; rtime 0.01; itime 0.43 (464.69 ms); loss 0.67832; iou_ev 57.1\n",
        "# 8x5_5e-4_rad25_18:55:34_1_eval_06:18:47; step 000081/81; rtime 0.01; itime 0.44 (464.33 ms); loss 1.05691; iou_ev 57.1\n",
        "# final  mean iou 57.120884073163325"
      ],
      "metadata": {
        "id": "8fFrtxKGQGkJ"
      },
      "execution_count": 15,
      "outputs": []
    },
    {
      "cell_type": "code",
      "source": [],
      "metadata": {
        "id": "PfSNexEaRKFg"
      },
      "execution_count": 15,
      "outputs": []
    },
    {
      "cell_type": "code",
      "source": [],
      "metadata": {
        "id": "eoV-U068RJ9M"
      },
      "execution_count": 15,
      "outputs": []
    },
    {
      "cell_type": "code",
      "source": [],
      "metadata": {
        "id": "ziSqXrPdRJ5m"
      },
      "execution_count": 15,
      "outputs": []
    },
    {
      "cell_type": "code",
      "source": [],
      "metadata": {
        "id": "xSS790AcRJ29"
      },
      "execution_count": 15,
      "outputs": []
    }
  ]
}